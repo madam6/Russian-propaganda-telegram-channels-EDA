{
 "cells": [
  {
   "cell_type": "markdown",
   "source": [
    "# Exploratory Data Analysis on Russian Propaganda Telegram Channels\n",
    "## Author: Artem Korniienko"
   ],
   "metadata": {
    "collapsed": false
   },
   "id": "fc8ba84d78cc005d"
  },
  {
   "cell_type": "code",
   "execution_count": 42,
   "outputs": [],
   "source": [
    "import re\n",
    "import string\n",
    "import random\n",
    "import warnings\n",
    "\n",
    "import pandas as pd\n",
    "import matplotlib.pyplot as plt\n",
    "import seaborn as sns\n",
    "import nltk\n",
    "from nltk.corpus import stopwords\n",
    "from stop_words import get_stop_words\n",
    "from collections import Counter\n",
    "from tqdm import tqdm\n",
    "from textblob import TextBlob\n",
    "from sklearn.feature_extraction.text import TfidfVectorizer\n",
    "from sklearn.cluster import KMeans"
   ],
   "metadata": {
    "collapsed": false,
    "ExecuteTime": {
     "end_time": "2023-12-05T16:21:42.001262400Z",
     "start_time": "2023-12-05T16:21:41.995887300Z"
    }
   },
   "id": "85721bcfc00160f8"
  },
  {
   "cell_type": "markdown",
   "source": [
    "## Getting merged dataset"
   ],
   "metadata": {
    "collapsed": false
   },
   "id": "b1a0c76ce707bbff"
  },
  {
   "cell_type": "code",
   "execution_count": 43,
   "outputs": [],
   "source": [
    "warnings.filterwarnings('ignore')\n",
    "merged_channels = \"../merged_channels\"\n",
    "output_file = f\"{merged_channels}.csv\""
   ],
   "metadata": {
    "collapsed": false,
    "ExecuteTime": {
     "end_time": "2023-12-05T16:21:43.966014700Z",
     "start_time": "2023-12-05T16:21:43.927518700Z"
    }
   },
   "id": "36fe7dee3f8a79b7"
  },
  {
   "cell_type": "code",
   "execution_count": 3,
   "outputs": [],
   "source": [
    "df = pd.read_csv(output_file, low_memory=False)"
   ],
   "metadata": {
    "collapsed": false,
    "ExecuteTime": {
     "end_time": "2023-12-05T15:03:54.041527500Z",
     "start_time": "2023-12-05T14:59:58.714776100Z"
    }
   },
   "id": "2100765c0903edc3"
  },
  {
   "cell_type": "code",
   "execution_count": 4,
   "outputs": [
    {
     "data": {
      "text/plain": "(8108693, 14)"
     },
     "execution_count": 4,
     "metadata": {},
     "output_type": "execute_result"
    }
   ],
   "source": [
    "df.shape"
   ],
   "metadata": {
    "collapsed": false,
    "ExecuteTime": {
     "end_time": "2023-12-05T15:04:08.791682200Z",
     "start_time": "2023-12-05T15:04:08.718718600Z"
    }
   },
   "id": "9be86a3f65724341"
  },
  {
   "cell_type": "markdown",
   "source": [
    "## What is a date range of posts for our dataset?"
   ],
   "metadata": {
    "collapsed": false
   },
   "id": "d8754a161905e04d"
  },
  {
   "cell_type": "code",
   "execution_count": 44,
   "outputs": [
    {
     "data": {
      "text/plain": "(Timestamp('2015-09-22 11:53:32+0000', tz='UTC'),\n Timestamp('2022-12-26 10:59:50+0000', tz='UTC'))"
     },
     "execution_count": 44,
     "metadata": {},
     "output_type": "execute_result"
    }
   ],
   "source": [
    "min(df[\"date\"]), max(df[\"date\"])"
   ],
   "metadata": {
    "collapsed": false,
    "ExecuteTime": {
     "end_time": "2023-12-05T16:22:07.208951500Z",
     "start_time": "2023-12-05T16:21:49.035490200Z"
    }
   },
   "id": "d5efcae6f23b0966"
  },
  {
   "cell_type": "markdown",
   "source": [
    "## Let's observe types of media in channels and their respective counts."
   ],
   "metadata": {
    "collapsed": false
   },
   "id": "87fe294588b955b5"
  },
  {
   "cell_type": "code",
   "execution_count": 45,
   "outputs": [
    {
     "data": {
      "text/plain": "type\nphoto      3374347\nsticker       9879\ntext       3407150\nvideo      1309641\nvoice         7676\nName: type, dtype: int64"
     },
     "execution_count": 45,
     "metadata": {},
     "output_type": "execute_result"
    }
   ],
   "source": [
    "df.groupby([\"type\"])[\"type\"].count()"
   ],
   "metadata": {
    "collapsed": false,
    "ExecuteTime": {
     "end_time": "2023-12-05T16:22:07.668054700Z",
     "start_time": "2023-12-05T16:22:07.208837500Z"
    }
   },
   "id": "3538702625f1adc1"
  },
  {
   "cell_type": "markdown",
   "source": [
    "## Let's inspect final structure of dataframe"
   ],
   "metadata": {
    "collapsed": false
   },
   "id": "ea553bc5b9b14d83"
  },
  {
   "cell_type": "code",
   "execution_count": 23,
   "outputs": [
    {
     "data": {
      "text/plain": "   Unnamed: 0       id                      date    views  \\\n0           0  12602.0 2022-12-19 13:05:23+00:00   3645.0   \n1           1  12601.0 2022-12-19 09:52:21+00:00   5831.0   \n2           2  12600.0 2022-12-19 09:18:53+00:00   3944.0   \n3           3  12599.0 2022-12-19 08:32:39+00:00   2970.0   \n4           4  12598.0 2022-12-18 21:41:25+00:00   4993.0   \n5           5  12597.0 2022-12-18 13:39:35+00:00   5713.0   \n6           6  12596.0 2022-12-18 08:38:12+00:00   6186.0   \n7           7  12595.0 2022-12-17 14:37:20+00:00   6181.0   \n8           8  12594.0 2022-12-17 08:31:08+00:00  80764.0   \n9           9  12593.0 2022-12-17 08:00:35+00:00   6889.0   \n\n                                           reactions  \\\n0  MessageReactions(results=[ReactionCount(reacti...   \n1  MessageReactions(results=[ReactionCount(reacti...   \n2  MessageReactions(results=[ReactionCount(reacti...   \n3  MessageReactions(results=[ReactionCount(reacti...   \n4  MessageReactions(results=[ReactionCount(reacti...   \n5  MessageReactions(results=[ReactionCount(reacti...   \n6  MessageReactions(results=[ReactionCount(reacti...   \n7  MessageReactions(results=[ReactionCount(reacti...   \n8  MessageReactions(results=[ReactionCount(reacti...   \n9  MessageReactions(results=[ReactionCount(reacti...   \n\n                                to_id  \\\n0  PeerChannel(channel_id=1261603870)   \n1  PeerChannel(channel_id=1261603870)   \n2  PeerChannel(channel_id=1261603870)   \n3  PeerChannel(channel_id=1261603870)   \n4  PeerChannel(channel_id=1261603870)   \n5  PeerChannel(channel_id=1261603870)   \n6  PeerChannel(channel_id=1261603870)   \n7  PeerChannel(channel_id=1261603870)   \n8  PeerChannel(channel_id=1261603870)   \n9  PeerChannel(channel_id=1261603870)   \n\n                                            fwd_from  \\\n0                                                NaN   \n1                                                NaN   \n2                                                NaN   \n3  MessageFwdHeader(date=datetime.datetime(2022, ...   \n4                                                NaN   \n5                                                NaN   \n6                                                NaN   \n7  MessageFwdHeader(date=datetime.datetime(2022, ...   \n8                                                NaN   \n9  MessageFwdHeader(date=datetime.datetime(2022, ...   \n\n                                             message   type  duration  \\\n0  🇵🇰🇦🇫 Исламабад сделал ставку на афганских тали...  photo       NaN   \n1  🕯️ 6 лет назад, 19 декабря 2016 года, в резуль...  photo       NaN   \n2  🇮🇷🇷🇺 Глава МИД Ирана Хосейн Амир Абдоллахиян с...  photo       NaN   \n3  Наши Друзья открыли \\nсбор  для одного из Доне...  photo       NaN   \n4  🇷🇺 Сегодня, 19 декабря в России празднуют День...  photo       NaN   \n5  📰📰📰❤️\\n\\n#Дайджест_СМИ \\n\\n📰 ABC: Папа римский...  photo       NaN   \n6  🇷🇺🇷🇸🇬🇷 Российский посол в Сербии Александр Боц...  photo       NaN   \n7  🇮🇷🇷🇺 Директор Центрального разведывательного у...  photo       NaN   \n8  🇷🇺🇺🇦 ⚡️⚡️⚡️⚡️⚡️\\n\\nНедавно я писал об освобожд...  video     103.0   \n9  🇮🇳🇪🇺 В Индии уверены, что Запад не откажется о...  photo       NaN   \n\n  channel_name frw_from_title frw_from_name msg_entity  day_of_week  \n0   Abbasdjuma            NaN           NaN        NaN            0  \n1   Abbasdjuma            NaN           NaN        NaN            0  \n2   Abbasdjuma            NaN           NaN        NaN            0  \n3   Abbasdjuma            NaN           NaN        NaN            0  \n4   Abbasdjuma            NaN           NaN        NaN            6  \n5   Abbasdjuma            NaN           NaN        NaN            6  \n6   Abbasdjuma            NaN           NaN        NaN            6  \n7   Abbasdjuma            NaN           NaN        NaN            5  \n8   Abbasdjuma            NaN           NaN        NaN            5  \n9   Abbasdjuma            NaN           NaN        NaN            5  ",
      "text/html": "<div>\n<style scoped>\n    .dataframe tbody tr th:only-of-type {\n        vertical-align: middle;\n    }\n\n    .dataframe tbody tr th {\n        vertical-align: top;\n    }\n\n    .dataframe thead th {\n        text-align: right;\n    }\n</style>\n<table border=\"1\" class=\"dataframe\">\n  <thead>\n    <tr style=\"text-align: right;\">\n      <th></th>\n      <th>Unnamed: 0</th>\n      <th>id</th>\n      <th>date</th>\n      <th>views</th>\n      <th>reactions</th>\n      <th>to_id</th>\n      <th>fwd_from</th>\n      <th>message</th>\n      <th>type</th>\n      <th>duration</th>\n      <th>channel_name</th>\n      <th>frw_from_title</th>\n      <th>frw_from_name</th>\n      <th>msg_entity</th>\n      <th>day_of_week</th>\n    </tr>\n  </thead>\n  <tbody>\n    <tr>\n      <th>0</th>\n      <td>0</td>\n      <td>12602.0</td>\n      <td>2022-12-19 13:05:23+00:00</td>\n      <td>3645.0</td>\n      <td>MessageReactions(results=[ReactionCount(reacti...</td>\n      <td>PeerChannel(channel_id=1261603870)</td>\n      <td>NaN</td>\n      <td>🇵🇰🇦🇫 Исламабад сделал ставку на афганских тали...</td>\n      <td>photo</td>\n      <td>NaN</td>\n      <td>Abbasdjuma</td>\n      <td>NaN</td>\n      <td>NaN</td>\n      <td>NaN</td>\n      <td>0</td>\n    </tr>\n    <tr>\n      <th>1</th>\n      <td>1</td>\n      <td>12601.0</td>\n      <td>2022-12-19 09:52:21+00:00</td>\n      <td>5831.0</td>\n      <td>MessageReactions(results=[ReactionCount(reacti...</td>\n      <td>PeerChannel(channel_id=1261603870)</td>\n      <td>NaN</td>\n      <td>🕯️ 6 лет назад, 19 декабря 2016 года, в резуль...</td>\n      <td>photo</td>\n      <td>NaN</td>\n      <td>Abbasdjuma</td>\n      <td>NaN</td>\n      <td>NaN</td>\n      <td>NaN</td>\n      <td>0</td>\n    </tr>\n    <tr>\n      <th>2</th>\n      <td>2</td>\n      <td>12600.0</td>\n      <td>2022-12-19 09:18:53+00:00</td>\n      <td>3944.0</td>\n      <td>MessageReactions(results=[ReactionCount(reacti...</td>\n      <td>PeerChannel(channel_id=1261603870)</td>\n      <td>NaN</td>\n      <td>🇮🇷🇷🇺 Глава МИД Ирана Хосейн Амир Абдоллахиян с...</td>\n      <td>photo</td>\n      <td>NaN</td>\n      <td>Abbasdjuma</td>\n      <td>NaN</td>\n      <td>NaN</td>\n      <td>NaN</td>\n      <td>0</td>\n    </tr>\n    <tr>\n      <th>3</th>\n      <td>3</td>\n      <td>12599.0</td>\n      <td>2022-12-19 08:32:39+00:00</td>\n      <td>2970.0</td>\n      <td>MessageReactions(results=[ReactionCount(reacti...</td>\n      <td>PeerChannel(channel_id=1261603870)</td>\n      <td>MessageFwdHeader(date=datetime.datetime(2022, ...</td>\n      <td>Наши Друзья открыли \\nсбор  для одного из Доне...</td>\n      <td>photo</td>\n      <td>NaN</td>\n      <td>Abbasdjuma</td>\n      <td>NaN</td>\n      <td>NaN</td>\n      <td>NaN</td>\n      <td>0</td>\n    </tr>\n    <tr>\n      <th>4</th>\n      <td>4</td>\n      <td>12598.0</td>\n      <td>2022-12-18 21:41:25+00:00</td>\n      <td>4993.0</td>\n      <td>MessageReactions(results=[ReactionCount(reacti...</td>\n      <td>PeerChannel(channel_id=1261603870)</td>\n      <td>NaN</td>\n      <td>🇷🇺 Сегодня, 19 декабря в России празднуют День...</td>\n      <td>photo</td>\n      <td>NaN</td>\n      <td>Abbasdjuma</td>\n      <td>NaN</td>\n      <td>NaN</td>\n      <td>NaN</td>\n      <td>6</td>\n    </tr>\n    <tr>\n      <th>5</th>\n      <td>5</td>\n      <td>12597.0</td>\n      <td>2022-12-18 13:39:35+00:00</td>\n      <td>5713.0</td>\n      <td>MessageReactions(results=[ReactionCount(reacti...</td>\n      <td>PeerChannel(channel_id=1261603870)</td>\n      <td>NaN</td>\n      <td>📰📰📰❤️\\n\\n#Дайджест_СМИ \\n\\n📰 ABC: Папа римский...</td>\n      <td>photo</td>\n      <td>NaN</td>\n      <td>Abbasdjuma</td>\n      <td>NaN</td>\n      <td>NaN</td>\n      <td>NaN</td>\n      <td>6</td>\n    </tr>\n    <tr>\n      <th>6</th>\n      <td>6</td>\n      <td>12596.0</td>\n      <td>2022-12-18 08:38:12+00:00</td>\n      <td>6186.0</td>\n      <td>MessageReactions(results=[ReactionCount(reacti...</td>\n      <td>PeerChannel(channel_id=1261603870)</td>\n      <td>NaN</td>\n      <td>🇷🇺🇷🇸🇬🇷 Российский посол в Сербии Александр Боц...</td>\n      <td>photo</td>\n      <td>NaN</td>\n      <td>Abbasdjuma</td>\n      <td>NaN</td>\n      <td>NaN</td>\n      <td>NaN</td>\n      <td>6</td>\n    </tr>\n    <tr>\n      <th>7</th>\n      <td>7</td>\n      <td>12595.0</td>\n      <td>2022-12-17 14:37:20+00:00</td>\n      <td>6181.0</td>\n      <td>MessageReactions(results=[ReactionCount(reacti...</td>\n      <td>PeerChannel(channel_id=1261603870)</td>\n      <td>MessageFwdHeader(date=datetime.datetime(2022, ...</td>\n      <td>🇮🇷🇷🇺 Директор Центрального разведывательного у...</td>\n      <td>photo</td>\n      <td>NaN</td>\n      <td>Abbasdjuma</td>\n      <td>NaN</td>\n      <td>NaN</td>\n      <td>NaN</td>\n      <td>5</td>\n    </tr>\n    <tr>\n      <th>8</th>\n      <td>8</td>\n      <td>12594.0</td>\n      <td>2022-12-17 08:31:08+00:00</td>\n      <td>80764.0</td>\n      <td>MessageReactions(results=[ReactionCount(reacti...</td>\n      <td>PeerChannel(channel_id=1261603870)</td>\n      <td>NaN</td>\n      <td>🇷🇺🇺🇦 ⚡️⚡️⚡️⚡️⚡️\\n\\nНедавно я писал об освобожд...</td>\n      <td>video</td>\n      <td>103.0</td>\n      <td>Abbasdjuma</td>\n      <td>NaN</td>\n      <td>NaN</td>\n      <td>NaN</td>\n      <td>5</td>\n    </tr>\n    <tr>\n      <th>9</th>\n      <td>9</td>\n      <td>12593.0</td>\n      <td>2022-12-17 08:00:35+00:00</td>\n      <td>6889.0</td>\n      <td>MessageReactions(results=[ReactionCount(reacti...</td>\n      <td>PeerChannel(channel_id=1261603870)</td>\n      <td>MessageFwdHeader(date=datetime.datetime(2022, ...</td>\n      <td>🇮🇳🇪🇺 В Индии уверены, что Запад не откажется о...</td>\n      <td>photo</td>\n      <td>NaN</td>\n      <td>Abbasdjuma</td>\n      <td>NaN</td>\n      <td>NaN</td>\n      <td>NaN</td>\n      <td>5</td>\n    </tr>\n  </tbody>\n</table>\n</div>"
     },
     "execution_count": 23,
     "metadata": {},
     "output_type": "execute_result"
    }
   ],
   "source": [
    "df.head(10)"
   ],
   "metadata": {
    "collapsed": false,
    "ExecuteTime": {
     "end_time": "2023-12-05T13:45:19.087977800Z",
     "start_time": "2023-12-05T13:45:18.965062800Z"
    }
   },
   "id": "55de44c892392f30"
  },
  {
   "cell_type": "markdown",
   "source": [
    "# Observing dataset"
   ],
   "metadata": {
    "collapsed": false
   },
   "id": "d4b01feda5b44ae3"
  },
  {
   "cell_type": "markdown",
   "source": [
    "## Question: How many times Putin was mentioned overall?"
   ],
   "metadata": {
    "collapsed": false
   },
   "id": "86abbf00820011b8"
  },
  {
   "cell_type": "code",
   "execution_count": 47,
   "outputs": [
    {
     "name": "stdout",
     "output_type": "stream",
     "text": [
      "335699\n"
     ]
    }
   ],
   "source": [
    "putin_pattern = re.compile(r'\\b[пП][уУ][тТ][иИ][нН]\\b')\n",
    "altered_df = df\n",
    "altered_df[\"pu_mention_count\"] = df[\"message\"].apply(lambda x: len(re.findall(putin_pattern, str(x))))\n",
    "total_mentions_pu = altered_df[\"pu_mention_count\"].sum()\n",
    "print(total_mentions_pu)"
   ],
   "metadata": {
    "collapsed": false,
    "ExecuteTime": {
     "end_time": "2023-12-05T16:23:25.412437800Z",
     "start_time": "2023-12-05T16:22:31.099204600Z"
    }
   },
   "id": "72076550b2a7a710"
  },
  {
   "cell_type": "markdown",
   "source": [
    "## Question: How many times was Zelensky mentioned overall?"
   ],
   "metadata": {
    "collapsed": false
   },
   "id": "b64e911dcbc549f1"
  },
  {
   "cell_type": "code",
   "execution_count": 48,
   "outputs": [
    {
     "name": "stdout",
     "output_type": "stream",
     "text": [
      "79235\n"
     ]
    }
   ],
   "source": [
    "zelensky_pattern = re.compile(r'\\b[зЗ][еЕ][лЛ][еЕ][нН][сС][кК][иИ][йЙ]\\b')\n",
    "altered_df[\"ze_mention_count\"] = df[\"message\"].apply(lambda x: len(re.findall(zelensky_pattern, str(x))))\n",
    "total_mentions_ze = altered_df[\"ze_mention_count\"].sum()\n",
    "print(total_mentions_ze)"
   ],
   "metadata": {
    "collapsed": false,
    "ExecuteTime": {
     "end_time": "2023-12-05T16:24:12.886044800Z",
     "start_time": "2023-12-05T16:23:25.416438100Z"
    }
   },
   "id": "886c7e5ab7b4b0a9"
  },
  {
   "cell_type": "markdown",
   "source": [
    "## Question: What is their mention rate per day?"
   ],
   "metadata": {
    "collapsed": false
   },
   "id": "d3c576580b34ec0e"
  },
  {
   "cell_type": "code",
   "execution_count": 49,
   "outputs": [],
   "source": [
    "altered_df['date'] = pd.to_datetime(altered_df['date'])\n",
    "altered_df = altered_df[altered_df[\"date\"].dt.year >= 2018]\n",
    "\n",
    "daily_mentions_pu = altered_df.groupby(altered_df[\"date\"].dt.date)[\"pu_mention_count\"].sum()\n",
    "\n",
    "daily_mentions_ze = altered_df.groupby(altered_df[\"date\"].dt.date)[\"ze_mention_count\"].sum()\n",
    "\n",
    "max_pu_date = daily_mentions_pu.idxmax()\n",
    "max_pu_mentions = daily_mentions_pu.max()\n",
    "\n",
    "max_ze_date = daily_mentions_ze.idxmax()\n",
    "max_ze_mentions = daily_mentions_ze.max()"
   ],
   "metadata": {
    "collapsed": false,
    "ExecuteTime": {
     "end_time": "2023-12-05T16:24:47.280300300Z",
     "start_time": "2023-12-05T16:24:12.914170900Z"
    }
   },
   "id": "11104ac9137bbf57"
  },
  {
   "cell_type": "code",
   "execution_count": 55,
   "outputs": [
    {
     "data": {
      "text/plain": "<Figure size 1200x600 with 1 Axes>",
      "image/png": "[encoded data removed]"
     },
     "metadata": {},
     "output_type": "display_data"
    },
    {
     "name": "stdout",
     "output_type": "stream",
     "text": [
      "Most Putin Mentions: 3857 on 2022-10-27\n",
      "Most Zelensky Mentions: 1120 on 2022-02-25\n"
     ]
    }
   ],
   "source": [
    "peak_threshold = 50\n",
    "\n",
    "plt.figure(figsize=(12, 6))\n",
    "plt.plot(daily_mentions_pu.index, daily_mentions_pu.values, label=\"Mentions of Putin\")\n",
    "plt.plot(daily_mentions_ze.index, daily_mentions_ze.values, label=\"Mentions of Zelensky\")\n",
    "plt.xlabel(\"Date\")\n",
    "plt.ylabel(\"Mentions per Day\")\n",
    "plt.title(\"Mentions of Putin and Zelensky over time\")\n",
    "plt.legend()\n",
    "plt.grid(True)\n",
    "plt.savefig(\"graphs/ZvsPu.png\")\n",
    "plt.show()\n",
    "\n",
    "print(f'Most Putin Mentions: {max_pu_mentions} on {max_pu_date}')\n",
    "print(f'Most Zelensky Mentions: {max_ze_mentions} on {max_ze_date}')\n"
   ],
   "metadata": {
    "collapsed": false,
    "ExecuteTime": {
     "end_time": "2023-12-05T16:29:59.585928100Z",
     "start_time": "2023-12-05T16:29:59.355615100Z"
    }
   },
   "id": "4d8113f466f0e140"
  },
  {
   "cell_type": "markdown",
   "source": [
    "## Question: What are the main words that are commonly used together with Putin?"
   ],
   "metadata": {
    "collapsed": false
   },
   "id": "1f2efcee5e3299ac"
  },
  {
   "cell_type": "code",
   "execution_count": 56,
   "outputs": [
    {
     "name": "stderr",
     "output_type": "stream",
     "text": [
      "[nltk_data] Downloading package stopwords to\n",
      "[nltk_data]     C:\\Users\\yg_ya\\AppData\\Roaming\\nltk_data...\n",
      "[nltk_data]   Package stopwords is already up-to-date!\n",
      "[nltk_data] Downloading package punkt to\n",
      "[nltk_data]     C:\\Users\\yg_ya\\AppData\\Roaming\\nltk_data...\n",
      "[nltk_data]   Package punkt is already up-to-date!\n"
     ]
    },
    {
     "name": "stdout",
     "output_type": "stream",
     "text": [
      "Word: это, Co-occurrence Count: 41203\n",
      "Word: россии, Co-occurrence Count: 40559\n",
      "Word: владимир, Co-occurrence Count: 26494\n",
      "Word: рф, Co-occurrence Count: 18661\n",
      "Word: президент, Co-occurrence Count: 18060\n",
      "Word: украине, Co-occurrence Count: 15725\n",
      "Word: россия, Co-occurrence Count: 15472\n",
      "Word: заявил, Co-occurrence Count: 15217\n",
      "Word: украины, Co-occurrence Count: 13546\n",
      "Word: также, Co-occurrence Count: 11520\n",
      "Word: сша, Co-occurrence Count: 11276\n",
      "Word: которые, Co-occurrence Count: 11171\n",
      "Word: путина, Co-occurrence Count: 10067\n",
      "Word: года, Co-occurrence Count: 9242\n",
      "Word: страны, Co-occurrence Count: 9114\n",
      "Word: время, Co-occurrence Count: 8530\n",
      "Word: будут, Co-occurrence Count: 8401\n",
      "Word: президента, Co-occurrence Count: 8372\n",
      "Word: сегодня, Co-occurrence Count: 7780\n",
      "Word: подписаться, Co-occurrence Count: 7750\n",
      "Word: против, Co-occurrence Count: 7105\n",
      "Word: который, Co-occurrence Count: 6742\n",
      "Word: сказал, Co-occurrence Count: 6467\n",
      "Word: лет, Co-occurrence Count: 6116\n",
      "Word: очень, Co-occurrence Count: 5965\n",
      "Word: году, Co-occurrence Count: 5958\n",
      "Word: подписал, Co-occurrence Count: 5948\n",
      "Word: области, Co-occurrence Count: 5942\n",
      "Word: нато, Co-occurrence Count: 5916\n",
      "Word: войны, Co-occurrence Count: 5560\n",
      "Word: российских, Co-occurrence Count: 5536\n",
      "Word: стран, Co-occurrence Count: 5452\n",
      "Word: российской, Co-occurrence Count: 5426\n",
      "Word: пока, Co-occurrence Count: 5315\n",
      "Word: нужно, Co-occurrence Count: 5235\n",
      "Word: просто, Co-occurrence Count: 5210\n",
      "Word: россию, Co-occurrence Count: 5165\n",
      "Word: должны, Co-occurrence Count: 5093\n",
      "Word: всё, Co-occurrence Count: 5072\n",
      "Word: власти, Co-occurrence Count: 4967\n",
      "Word: безопасности, Co-occurrence Count: 4910\n",
      "Word: военной, Co-occurrence Count: 4864\n",
      "Word: вопрос, Co-occurrence Count: 4694\n",
      "Word: людей, Co-occurrence Count: 4687\n",
      "Word: операции, Co-occurrence Count: 4662\n",
      "Word: нам, Co-occurrence Count: 4533\n",
      "Word: украину, Co-occurrence Count: 4421\n",
      "Word: глава, Co-occurrence Count: 4381\n",
      "Word: украина, Co-occurrence Count: 4325\n",
      "Word: запад, Co-occurrence Count: 4317\n"
     ]
    }
   ],
   "source": [
    "nltk.download(\"stopwords\")\n",
    "nltk.download(\"punkt\")\n",
    "\n",
    "stop_words = set(stopwords.words(\"russian\"))\n",
    "co_occurred_words = []\n",
    "\n",
    "total_messages = len(df)\n",
    "chunk_size = 100 \n",
    "\n",
    "\n",
    "def process_chunk(chunk):\n",
    "    chunk_co_occurred_words = []\n",
    "    for index, row in chunk.iterrows():\n",
    "        message_date = row['date']\n",
    "        if message_date >= pd.to_datetime('2022-02-24', utc=True):\n",
    "            message = row['message']\n",
    "            words = nltk.word_tokenize(str(message))\n",
    "            words = [word.lower() for word in words if word.lower() not in stop_words and word.isalpha()]\n",
    "            if 'путин' in words:\n",
    "                chunk_co_occurred_words.extend([word for word in words if word != 'путин'])\n",
    "    return chunk_co_occurred_words\n",
    "\n",
    "\n",
    "for chunk_start in range(0, total_messages, chunk_size):\n",
    "    chunk_end = min(chunk_start + chunk_size, total_messages)\n",
    "    chunk = df.iloc[chunk_start:chunk_end]\n",
    "    chunk_co_occurred_words = process_chunk(chunk)\n",
    "    co_occurred_words.extend(chunk_co_occurred_words)\n",
    "\n",
    "    progress = (chunk_end) / total_messages * 100\n",
    "    print(f\"Processed {progress:.2f}% of messages\", end=\"\\r\")\n",
    "\n",
    "word_counts = Counter(co_occurred_words)\n",
    "most_common_co_occurred = word_counts.most_common(50)\n",
    "\n",
    "for word, count in most_common_co_occurred:\n",
    "    print(f\"Word: {word}, Co-occurrence Count: {count}\")\n"
   ],
   "metadata": {
    "collapsed": false,
    "ExecuteTime": {
     "end_time": "2023-12-05T17:19:00.534577Z",
     "start_time": "2023-12-05T16:30:22.288218400Z"
    }
   },
   "id": "df9bdad440fe0aed"
  },
  {
   "cell_type": "markdown",
   "source": [
    "## What about Zelensky?"
   ],
   "metadata": {
    "collapsed": false
   },
   "id": "42bcdf314c617725"
  },
  {
   "cell_type": "code",
   "execution_count": null,
   "outputs": [
    {
     "name": "stdout",
     "output_type": "stream",
     "text": [
      "Processed 17.50% of messages\r"
     ]
    }
   ],
   "source": [
    "stop_words = set(stopwords.words(\"russian\"))\n",
    "co_occurred_words = []\n",
    "\n",
    "total_messages = len(df)\n",
    "chunk_size = 100\n",
    "\n",
    "\n",
    "def process_chunk(chunk):\n",
    "    chunk_co_occurred_words = []\n",
    "    for index, row in chunk.iterrows():\n",
    "        message_date = row['date']\n",
    "        if message_date >= pd.to_datetime('2022-02-24', utc=True):\n",
    "            message = row['message']\n",
    "            words = nltk.word_tokenize(str(message))\n",
    "            words = [word.lower() for word in words if word.lower() not in stop_words and word.isalpha()]\n",
    "            if 'зеленский' in words:\n",
    "                chunk_co_occurred_words.extend([word for word in words if word != 'зеленский'])\n",
    "    return chunk_co_occurred_words\n",
    "\n",
    "\n",
    "for chunk_start in range(0, total_messages, chunk_size):\n",
    "    chunk_end = min(chunk_start + chunk_size, total_messages)\n",
    "    chunk = df.iloc[chunk_start:chunk_end]\n",
    "    chunk_co_occurred_words = process_chunk(chunk)\n",
    "    co_occurred_words.extend(chunk_co_occurred_words)\n",
    "\n",
    "    progress = (chunk_end) / total_messages * 100\n",
    "    print(f\"Processed {progress:.2f}% of messages\", end=\"\\r\")\n",
    "\n",
    "word_counts = Counter(co_occurred_words)\n",
    "most_common_co_occurred = word_counts.most_common(50)\n",
    "\n",
    "for word, count in most_common_co_occurred:\n",
    "    print(f\"Word: {word}, Co-occurrence Count: {count}\")"
   ],
   "metadata": {
    "collapsed": false,
    "is_executing": true,
    "ExecuteTime": {
     "start_time": "2023-12-05T17:19:00.547576400Z"
    }
   },
   "id": "c0492f015796517"
  },
  {
   "cell_type": "markdown",
   "source": [
    "## Question: What is the distribution of the word \"hohol\""
   ],
   "metadata": {
    "collapsed": false
   },
   "id": "fb9bca4504a0918b"
  },
  {
   "cell_type": "code",
   "execution_count": null,
   "outputs": [],
   "source": [
    "df['date'] = pd.to_datetime(df['date'], utc=True)\n",
    "\n",
    "messages_containing_hoh = df[df['message'].str.contains(\"хох\", case=False, na=False)]\n",
    "\n",
    "message_distribution = messages_containing_hoh.resample('W', on='date')['id'].count()"
   ],
   "metadata": {
    "collapsed": false,
    "is_executing": true
   },
   "id": "342bab9b034816bf"
  },
  {
   "cell_type": "code",
   "execution_count": null,
   "outputs": [],
   "source": [
    "plt.figure(figsize=(12, 6))\n",
    "message_distribution.plot(kind='line', marker='o', linestyle='-', color='b')\n",
    "plt.title('Weekly Distribution of Messages Containing hohol')\n",
    "plt.xlabel('Date')\n",
    "plt.ylabel('Message Count')\n",
    "plt.grid(True, linestyle='--')\n",
    "plt.savefig(\"graphs/gXox.png\")\n",
    "plt.show()"
   ],
   "metadata": {
    "collapsed": false,
    "is_executing": true
   },
   "id": "7f02c37204e2b886"
  },
  {
   "cell_type": "markdown",
   "source": [
    "## Qustion: What is average duration of the video file?"
   ],
   "metadata": {
    "collapsed": false
   },
   "id": "e6932db8b56adc7b"
  },
  {
   "cell_type": "code",
   "execution_count": null,
   "outputs": [],
   "source": [
    "media_posts = df[df['type'] == 'video']\n",
    "\n",
    "average_duration = media_posts['duration'].mean()\n",
    "\n",
    "print(f\"The average duration of media posts across all channels is {average_duration:.2f} seconds.\")"
   ],
   "metadata": {
    "collapsed": false,
    "is_executing": true
   },
   "id": "fb5149ac7d6a880d"
  },
  {
   "cell_type": "markdown",
   "source": [
    "## Question: How does the number of posts vary by month or year for each channel?(shown top 10)"
   ],
   "metadata": {
    "collapsed": false
   },
   "id": "7dbd739df7bbdfd4"
  },
  {
   "cell_type": "code",
   "execution_count": null,
   "outputs": [],
   "source": [
    "df['date'] = pd.to_datetime(df['date'], utc=True)\n",
    "\n",
    "df['post_month'] = df['date'].dt.month\n",
    "df['post_year'] = df['date'].dt.year\n",
    "\n",
    "posts_by_month = df.groupby(['channel_name', 'post_year', 'post_month'])['id'].count()\n",
    "\n",
    "posts_by_month = posts_by_month.reset_index()\n",
    "\n",
    "top_10_channels = posts_by_month.groupby(['channel_name'])['id'].sum().nlargest(10).index\n",
    "\n",
    "top_10_data = posts_by_month[posts_by_month['channel_name'].isin(top_10_channels)]"
   ],
   "metadata": {
    "collapsed": false,
    "is_executing": true
   },
   "id": "174df20c01bea582"
  },
  {
   "cell_type": "code",
   "execution_count": null,
   "outputs": [],
   "source": [
    "plt.figure(figsize=(12, 6))\n",
    "for channel_name, channel_data in top_10_data.groupby('channel_name'):\n",
    "    plt.plot(channel_data['post_month'], channel_data['id'], label=channel_name)\n",
    "\n",
    "plt.title('Number of Posts by Month for Top 10 Channels')\n",
    "plt.xlabel('Month')\n",
    "plt.ylabel('Number of Posts')\n",
    "plt.legend()\n",
    "plt.grid(True)\n",
    "plt.savefig(\"graphs/Posts10Channels.png\")\n",
    "plt.show()"
   ],
   "metadata": {
    "collapsed": false,
    "is_executing": true
   },
   "id": "c6345338d2fed799"
  },
  {
   "cell_type": "markdown",
   "source": [
    "## Question: Which channels have the most active posting schedule?"
   ],
   "metadata": {
    "collapsed": false
   },
   "id": "ff59f1845750366"
  },
  {
   "cell_type": "code",
   "execution_count": null,
   "outputs": [],
   "source": [
    "df['date'] = pd.to_datetime(df['date'], utc=True)\n",
    "\n",
    "posts_per_day = df.groupby(['channel_name', df['date'].dt.date])['id'].count()\n",
    "\n",
    "average_posts_per_day = posts_per_day.groupby('channel_name').mean()\n",
    "\n",
    "most_active_channels = average_posts_per_day.nlargest(5) \n",
    "\n",
    "print(\"Channels with the Most Active Posting Schedules:\")\n",
    "print(most_active_channels)"
   ],
   "metadata": {
    "collapsed": false,
    "is_executing": true
   },
   "id": "96d1b18d7fd6712"
  },
  {
   "cell_type": "code",
   "execution_count": null,
   "outputs": [],
   "source": [
    "plt.figure(figsize=(12, 6))\n",
    "most_active_channels.plot(kind='bar', rot=0)\n",
    "plt.title('Average Number of Posts per Day for the Most Active Channels')\n",
    "plt.xlabel('Channel Name')\n",
    "plt.ylabel('Average Posts per Day')\n",
    "plt.savefig(\"graphs/PostsForActiveChannels.png\")\n",
    "plt.show()"
   ],
   "metadata": {
    "collapsed": false,
    "is_executing": true
   },
   "id": "e05b38e83fdfbc7e"
  },
  {
   "cell_type": "markdown",
   "source": [
    "## Question: What is most common words patterns(in one-month time period)."
   ],
   "metadata": {
    "collapsed": false
   },
   "id": "27429749d11b258"
  },
  {
   "cell_type": "markdown",
   "source": [
    "### Finding month with the most messages."
   ],
   "metadata": {
    "collapsed": false
   },
   "id": "e36e43b0900b42bc"
  },
  {
   "cell_type": "code",
   "execution_count": null,
   "outputs": [],
   "source": [
    "df['date'] = pd.to_datetime(df['date'])\n",
    "df['month'] = df['date'].dt.to_period('M')\n",
    "month_post_counts = df['month'].value_counts()\n",
    "\n",
    "most_posts_month = month_post_counts.idxmax()\n",
    "\n",
    "print(f\"The month with the most posts is: {most_posts_month}\")\n",
    "\n",
    "filtered_df = df[df['month'] == most_posts_month]"
   ],
   "metadata": {
    "collapsed": false,
    "is_executing": true
   },
   "id": "8760d4d1c0b98799"
  },
  {
   "cell_type": "code",
   "execution_count": null,
   "outputs": [],
   "source": [
    "def preprocess_text(text):\n",
    "    text = text.lower()\n",
    "    text = ''.join([char for char in text if char not in string.punctuation])\n",
    "    return text\n",
    "\n",
    "def extract_ngrams(text, n):\n",
    "    if isinstance(text, str):\n",
    "        text = preprocess_text(text)\n",
    "        tokens = nltk.word_tokenize(text)\n",
    "        n_grams = [tuple(tokens[i:i+n]) for i in range(len(tokens) - n + 1)]\n",
    "        return [' '.join(gram) for gram in n_grams]\n",
    "    else:\n",
    "        return []\n",
    "\n",
    "def process_ngrams(chunk_df, n, pbar):\n",
    "    ngram_counts = Counter()\n",
    "    for text in chunk_df['message']:\n",
    "        ngrams = extract_ngrams(text, n)\n",
    "        ngram_counts.update(ngrams)\n",
    "    pbar.update(1)\n",
    "    return ngram_counts\n",
    "\n",
    "ngram_lengths = [2, 3]\n",
    "chunk_size = 100\n",
    "\n",
    "start_time = '2022-03-01'\n",
    "end_time = '2022-03-31'\n",
    "\n",
    "filtered_df = df[(df['date'] >= start_time) & (df['date'] < end_time)]\n",
    "num_chunks = len(filtered_df)\n",
    "\n",
    "ngram_counts = {n: Counter() for n in ngram_lengths}\n",
    "\n",
    "for ngram_length in ngram_lengths:\n",
    "    pbar = tqdm(total=num_chunks, desc=f\"Processing {ngram_length}-grams\")\n",
    "    for chunk_start in range(0, len(filtered_df), chunk_size):\n",
    "        chunk_df = filtered_df.iloc[chunk_start:chunk_start + chunk_size]\n",
    "        ngram_counts[ngram_length] += process_ngrams(chunk_df, ngram_length, pbar)\n",
    "    pbar.close()\n",
    "\n",
    "top_n = 50\n",
    "\n",
    "top_ngrams_2 = ngram_counts[2].most_common(top_n)\n",
    "top_ngrams_3 = ngram_counts[3].most_common(top_n)"
   ],
   "metadata": {
    "collapsed": false,
    "is_executing": true
   },
   "id": "108cb81af3742bf1"
  },
  {
   "cell_type": "code",
   "execution_count": null,
   "outputs": [],
   "source": [
    "top_ngrams_2"
   ],
   "metadata": {
    "collapsed": false,
    "is_executing": true
   },
   "id": "f9e412c974da9004"
  },
  {
   "cell_type": "code",
   "execution_count": null,
   "outputs": [],
   "source": [
    "top_ngrams_3"
   ],
   "metadata": {
    "collapsed": false,
    "is_executing": true
   },
   "id": "ef8f17b68773b5f8"
  },
  {
   "cell_type": "code",
   "execution_count": null,
   "outputs": [],
   "source": [
    "top_ngrams_to_plot = top_ngrams_2[len(top_ngrams_2)-30:len(top_ngrams_2)]\n",
    "plt.figure(figsize=(10, 6))\n",
    "ngrams, counts = zip(*top_ngrams_to_plot)\n",
    "\n",
    "plt.barh(ngrams, counts)\n",
    "plt.title(f'Top {2}-grams in All Text')\n",
    "plt.xlabel('Frequency')\n",
    "plt.tight_layout()\n",
    "plt.savefig(\"graphs/Top2Grams.png\")\n",
    "plt.show()"
   ],
   "metadata": {
    "collapsed": false,
    "is_executing": true
   },
   "id": "a24c345edbf25520"
  },
  {
   "cell_type": "code",
   "execution_count": null,
   "outputs": [],
   "source": [
    "top_ngrams_to_plot = top_ngrams_3[len(top_ngrams_3)-50:len(top_ngrams_3)-20]\n",
    "plt.figure(figsize=(10, 6))\n",
    "ngrams, counts = zip(*top_ngrams_to_plot)\n",
    "\n",
    "plt.barh(ngrams, counts)\n",
    "plt.title(f'Top {3}-grams in All Text')\n",
    "plt.xlabel('Frequency')\n",
    "plt.tight_layout()\n",
    "plt.savefig(\"graphs/Top3Grams.png\")\n",
    "plt.show()"
   ],
   "metadata": {
    "collapsed": false,
    "is_executing": true
   },
   "id": "876cf206154dc533"
  },
  {
   "cell_type": "markdown",
   "source": [
    "## Question: What is the most common word  used in text posts for certain amount of channels?"
   ],
   "metadata": {
    "collapsed": false
   },
   "id": "aceade05d4ccc7cb"
  },
  {
   "cell_type": "code",
   "execution_count": null,
   "outputs": [],
   "source": [
    "start_date = pd.to_datetime('2022-02-24', utc=True)\n",
    "end_date = pd.to_datetime('2022-12-31', utc=True)\n",
    "\n",
    "random_channels = random.sample(df['channel_name'].unique().tolist(), 50)\n",
    "\n",
    "text_posts = df[(df['type'] == 'text') & (df['date'] >= start_date) & (df['date'] <= end_date) & (df['channel_name'].isin(random_channels))]\n",
    "\n",
    "text_posts['words'] = text_posts['message'].str.split()\n",
    "text_posts = text_posts.explode('words')\n",
    "text_posts = text_posts[text_posts['words'].str.len() > 3]\n",
    "\n",
    "most_common_words = text_posts.groupby(['channel_name', 'words']).size().reset_index(name='count')\n",
    "most_common_words = most_common_words.groupby('channel_name').apply(lambda x: x.nlargest(1, 'count')).reset_index(drop=True)\n",
    "\n",
    "print(most_common_words)"
   ],
   "metadata": {
    "collapsed": false,
    "is_executing": true
   },
   "id": "1bcf9f6e840ad2fd"
  },
  {
   "cell_type": "markdown",
   "source": [
    "## Question: Which channels have the highest average views and reactions per post?"
   ],
   "metadata": {
    "collapsed": false
   },
   "id": "1e3177127ab1baad"
  },
  {
   "cell_type": "code",
   "execution_count": null,
   "outputs": [],
   "source": [
    "channel_stats = df.groupby('channel_name')\n",
    "average_views = channel_stats['views'].mean()\n",
    "average_stats = pd.DataFrame({'Average Views': average_views})\n",
    "sorted_stats = average_stats.sort_values(by=['Average Views'], ascending=False)\n",
    "top_10_channels = sorted_stats.head(10)"
   ],
   "metadata": {
    "collapsed": false,
    "is_executing": true
   },
   "id": "8898ed60630589cb"
  },
  {
   "cell_type": "code",
   "execution_count": null,
   "outputs": [],
   "source": [
    "plt.figure(figsize=(12, 6))\n",
    "top_10_channels.plot(kind='bar', rot=45)\n",
    "plt.title('Top 10 Channels with Highest Average Views')\n",
    "plt.xlabel('Channel Name')\n",
    "plt.ylabel('Average Views')\n",
    "plt.grid(axis='y', linestyle='--')\n",
    "plt.savefig(\"graphs/Highest reaction channels.png\")\n",
    "plt.show()"
   ],
   "metadata": {
    "collapsed": false,
    "is_executing": true
   },
   "id": "4efb6d77b8ede132"
  },
  {
   "cell_type": "markdown",
   "source": [
    "## Question: Which channels have the highest and lowest average post views?"
   ],
   "metadata": {
    "collapsed": false
   },
   "id": "94f69528b8c4f54a"
  },
  {
   "cell_type": "code",
   "execution_count": null,
   "outputs": [],
   "source": [
    "average_post_views = df.groupby('channel_name')['views'].mean()\n",
    "highest_average_views = average_post_views.idxmax()\n",
    "lowest_average_views = average_post_views.idxmin()\n",
    "\n",
    "highest_average_views_value = average_post_views.max()\n",
    "lowest_average_views_value = average_post_views.min()\n",
    "\n",
    "highest_lowest_average_views = pd.DataFrame({\n",
    "    'Channel': [highest_average_views, lowest_average_views],\n",
    "    'Average Post Views': [highest_average_views_value, lowest_average_views_value]\n",
    "})"
   ],
   "metadata": {
    "collapsed": false,
    "is_executing": true
   },
   "id": "6a2cdc76cf4ce702"
  },
  {
   "cell_type": "code",
   "execution_count": null,
   "outputs": [],
   "source": [
    "plt.figure(figsize=(10, 5))\n",
    "highest_lowest_average_views.plot(x='Channel', y='Average Post Views', kind='bar', rot=0)\n",
    "plt.title('Channels with the Highest and Lowest Average Post Views')\n",
    "plt.xlabel('Channel')\n",
    "plt.ylabel('Average Post Views')\n",
    "plt.grid(axis='y', linestyle='--')\n",
    "plt.savefig(\"graphs/HighestLowestPostViews.png\")\n",
    "plt.show()"
   ],
   "metadata": {
    "collapsed": false,
    "is_executing": true
   },
   "id": "8125b913a750ae77"
  },
  {
   "cell_type": "markdown",
   "source": [
    "## Question: Which channel has the most amount of posts?"
   ],
   "metadata": {
    "collapsed": false
   },
   "id": "8e4094cadea5e1de"
  },
  {
   "cell_type": "code",
   "execution_count": null,
   "outputs": [],
   "source": [
    "channel_post_counts = df['channel_name'].value_counts()\n",
    "\n",
    "most_posts_channel = channel_post_counts.idxmax()\n",
    "most_posts_count = channel_post_counts.max()\n",
    "\n",
    "print(f\"The channel with the most posts is '{most_posts_channel}' with {most_posts_count} posts.\")"
   ],
   "metadata": {
    "collapsed": false,
    "is_executing": true
   },
   "id": "1dc1bd97760fcecb"
  },
  {
   "cell_type": "markdown",
   "source": [
    "## Question: Which channels have the most rapid growth in post count over a specific period?(before and right after the invasion)"
   ],
   "metadata": {
    "collapsed": false
   },
   "id": "d1ec123dfa3c77"
  },
  {
   "cell_type": "code",
   "execution_count": null,
   "outputs": [],
   "source": [
    "df['date'] = pd.to_datetime(df['date'], utc=True)\n",
    "\n",
    "start_date = pd.to_datetime('2022-01-01', utc=True)\n",
    "end_date = pd.to_datetime('2022-03-01', utc=True)\n",
    "\n",
    "filtered_df = df[(df['date'] >= start_date) & (df['date'] <= end_date)]\n",
    "\n",
    "post_count_growth = filtered_df.groupby(['channel_name', filtered_df['date'].dt.date])['to_id'].count().reset_index()\n",
    "post_count_growth = post_count_growth.pivot(index='channel_name', columns='date', values='to_id')\n",
    "\n",
    "growth_rate = post_count_growth.diff(axis=1).mean(axis=1)\n",
    "most_rapid_growth_channels = growth_rate.nlargest(10)"
   ],
   "metadata": {
    "collapsed": false,
    "is_executing": true
   },
   "id": "81df9dc69b588e58"
  },
  {
   "cell_type": "code",
   "execution_count": null,
   "outputs": [],
   "source": [
    "plt.figure(figsize=(10, 5))\n",
    "most_rapid_growth_channels.plot(kind='bar', rot=0)\n",
    "plt.title('Channels with the Most Rapid Growth in Post Count')\n",
    "plt.xlabel('Channel Name')\n",
    "plt.ylabel('Growth Rate')\n",
    "plt.grid(axis='y', linestyle='--')\n",
    "plt.xticks(fontsize = 6)\n",
    "plt.savefig(\"graphs/MostRapidGrowthChannels.png\")\n",
    "plt.show()"
   ],
   "metadata": {
    "collapsed": false,
    "is_executing": true
   },
   "id": "ff13533798a0376c"
  },
  {
   "cell_type": "markdown",
   "source": [
    "##  Question: What is the distribution of post types (text or media) across all channels and each channel specifically?"
   ],
   "metadata": {
    "collapsed": false
   },
   "id": "c1f2b3d50d574ec8"
  },
  {
   "cell_type": "code",
   "execution_count": null,
   "outputs": [],
   "source": [
    "media_posts = df[df['type'].isin(['photo', 'video', 'audio'])]\n",
    "\n",
    "post_type_distribution = df['type'].value_counts()\n",
    "\n",
    "channel_post_type_distribution = df.groupby('channel_name')['type'].value_counts().unstack(fill_value=0)"
   ],
   "metadata": {
    "collapsed": false,
    "is_executing": true
   },
   "id": "8fff4cde28988386"
  },
  {
   "cell_type": "code",
   "execution_count": null,
   "outputs": [],
   "source": [
    "post_type_distribution.head(10)\n",
    "channel_post_type_distribution.head(10)"
   ],
   "metadata": {
    "collapsed": false,
    "is_executing": true
   },
   "id": "738c29689683dd22"
  },
  {
   "cell_type": "code",
   "execution_count": null,
   "outputs": [],
   "source": [
    "plt.figure(figsize=(10, 5))\n",
    "\n",
    "post_type_distribution.plot(kind='bar', rot=0)\n",
    "plt.title('Overall Distribution of Post Types')\n",
    "plt.xlabel('Post Type')\n",
    "plt.ylabel('Count')\n",
    "plt.savefig(\"graphs/OverallDistributionOfPostTypes.png\")"
   ],
   "metadata": {
    "collapsed": false,
    "is_executing": true
   },
   "id": "9f9f109331b04046"
  },
  {
   "cell_type": "code",
   "execution_count": null,
   "outputs": [],
   "source": [
    "channels = channel_post_type_distribution.index\n",
    "\n",
    "num_channels_per_graph = 16  \n",
    "num_graphs = (len(channels) + num_channels_per_graph - 1) // num_channels_per_graph\n",
    "\n",
    "fig, axes = plt.subplots(num_graphs, 1, figsize=(15, 4 * num_graphs))\n",
    "fig.suptitle('Distribution of Post Types for Each Channel', y=1.02)\n",
    "\n",
    "for idx, channel in enumerate(channels):\n",
    "    graph_idx = idx // num_channels_per_graph\n",
    "    ax = axes[graph_idx] if num_graphs > 1 else axes\n",
    "\n",
    "    channel_post_type_distribution.loc[channel].plot(kind='bar', stacked=True, ax=ax, label=channel)\n",
    "    ax.set_title(f'Post Type Distribution for Channels')\n",
    "    ax.set_xlabel('Post Type')\n",
    "    ax.set_ylabel('Count')\n",
    "    ax.legend(title='Channel', bbox_to_anchor=(1, 1), loc='upper left')\n",
    "    ax.tick_params(axis='x', labelrotation=45)\n",
    "    ax.tick_params(axis='x', labelsize=8)\n",
    "\n",
    "plt.tight_layout(rect=[0, 0, 0.9, 1])\n",
    "plt.savefig(\"graphs/DistributionOfTypesForGroupsOfChannels.png\")\n",
    "plt.show()"
   ],
   "metadata": {
    "collapsed": false,
    "is_executing": true
   },
   "id": "be5b5fca4d38154"
  },
  {
   "cell_type": "markdown",
   "source": [
    "## Question: What is the distribution of post dates and times across all channels?"
   ],
   "metadata": {
    "collapsed": false
   },
   "id": "8d419c579714c1e2"
  },
  {
   "cell_type": "code",
   "execution_count": null,
   "outputs": [],
   "source": [
    "df['date'] = pd.to_datetime(df['date'], utc=True)\n",
    "df['post_date'] = df['date'].dt.date\n",
    "df['post_time'] = df['date'].dt.time\n",
    "\n",
    "post_date_distribution = df['post_date'].value_counts().sort_index()\n",
    "post_time_distribution = df['post_time'].value_counts().sort_index()"
   ],
   "metadata": {
    "collapsed": false,
    "is_executing": true
   },
   "id": "cd1bb56aeb1a03ac"
  },
  {
   "cell_type": "code",
   "execution_count": null,
   "outputs": [],
   "source": [
    "plt.figure(figsize=(12, 6))\n",
    "post_date_distribution.plot(kind='line', rot=0)\n",
    "plt.title('Distribution of Post Dates')\n",
    "plt.xlabel('Date')\n",
    "plt.ylabel('Count')\n",
    "plt.grid(True, linestyle='--')\n",
    "plt.savefig(\"graphs/DistributionOfPostDates.png\")\n",
    "plt.show()"
   ],
   "metadata": {
    "collapsed": false,
    "is_executing": true
   },
   "id": "a05ad85c76cbe0ea"
  },
  {
   "cell_type": "code",
   "execution_count": null,
   "outputs": [],
   "source": [
    "plt.figure(figsize=(12, 6))\n",
    "post_time_distribution.plot(kind='line', rot=0)\n",
    "plt.title('Distribution of Post Times')\n",
    "plt.xlabel('Time')\n",
    "plt.ylabel('Count')\n",
    "plt.grid(True, linestyle='--')\n",
    "plt.savefig(\"graphs/DistributionOfPostTimes.png\")\n",
    "plt.show()"
   ],
   "metadata": {
    "collapsed": false,
    "is_executing": true
   },
   "id": "4c0ec0f7ef99e4b3"
  },
  {
   "cell_type": "markdown",
   "source": [
    "## Question: What is the most common time of day for posts to be made in each channel?"
   ],
   "metadata": {
    "collapsed": false
   },
   "id": "f5978801523da2d8"
  },
  {
   "cell_type": "code",
   "execution_count": null,
   "outputs": [],
   "source": [
    "df['date'] = pd.to_datetime(df['date'], utc=True)\n",
    "\n",
    "df['hour'] = df['date'].dt.hour\n",
    "\n",
    "\n",
    "channel_hour_counts = df.groupby(['channel_name', 'hour']).size().reset_index(name='post_count')\n",
    "\n",
    "\n",
    "idx = channel_hour_counts.groupby('channel_name')['post_count'].transform(max) == channel_hour_counts['post_count']\n",
    "most_common_hours = channel_hour_counts[idx]\n",
    "\n",
    "\n",
    "print(\"Most Common Hours for Posts in Each Channel:\")\n",
    "print(most_common_hours)"
   ],
   "metadata": {
    "collapsed": false,
    "is_executing": true
   },
   "id": "180ae032108c2100"
  },
  {
   "cell_type": "markdown",
   "source": [
    "## Question: Which channels have the highest proportion of forwarded posts, and from which other channels are they mostly forwarded?"
   ],
   "metadata": {
    "collapsed": false
   },
   "id": "fb4bbc7632d6520"
  },
  {
   "cell_type": "code",
   "execution_count": null,
   "outputs": [],
   "source": [
    "forwarded_posts = df[df['fwd_from'].notnull()]\n",
    "\n",
    "total_forwarded_posts = forwarded_posts.groupby('channel_name')['to_id'].count()\n",
    "\n",
    "total_posts = df.groupby('channel_name')['id'].count()\n",
    "\n",
    "proportion_forwarded_posts = total_forwarded_posts / total_posts\n",
    "\n",
    "\n",
    "channel_with_highest_proportion = proportion_forwarded_posts.idxmax()\n",
    "highest_proportion = proportion_forwarded_posts.max()\n",
    "\n",
    "\n",
    "channels_forwarded_from = forwarded_posts[forwarded_posts['channel_name'] == channel_with_highest_proportion]\n",
    "channels_forwarded_from_counts = channels_forwarded_from['fwd_from'].str.extract(r'channel_id=(\\d+)')[0].value_counts()\n",
    "\n",
    "\n",
    "print(f\"The channel with the highest proportion of forwarded posts is '{channel_with_highest_proportion}' with a proportion of {highest_proportion:.2f}.\")\n",
    "print(f\"The channels mostly forwarding to '{channel_with_highest_proportion}' are:\")\n",
    "print(channels_forwarded_from_counts)\n"
   ],
   "metadata": {
    "collapsed": false,
    "is_executing": true
   },
   "id": "bba4fab46b793532"
  },
  {
   "cell_type": "markdown",
   "source": [
    "## Question: How does the number of posts vary on different days of the week?"
   ],
   "metadata": {
    "collapsed": false
   },
   "id": "e9aad756c75a7b07"
  },
  {
   "cell_type": "code",
   "execution_count": null,
   "outputs": [],
   "source": [
    "df['date'] = pd.to_datetime(df['date'], utc=True)\n",
    "df['day_of_week'] = df['date'].dt.dayofweek\n",
    "\n",
    "day_names = ['Monday', 'Tuesday', 'Wednesday', 'Thursday', 'Friday', 'Saturday', 'Sunday']\n",
    "\n",
    "posts_by_day = df['day_of_week'].value_counts().sort_index()"
   ],
   "metadata": {
    "collapsed": false,
    "is_executing": true
   },
   "id": "f6ac03eb4951a7d5"
  },
  {
   "cell_type": "code",
   "execution_count": null,
   "outputs": [],
   "source": [
    "plt.figure(figsize=(10, 6))\n",
    "posts_by_day.plot(kind='bar', rot=0)\n",
    "plt.title('Number of Posts on Different Days of the Week')\n",
    "plt.xlabel('Day of the Week')\n",
    "plt.ylabel('Number of Posts')\n",
    "plt.xticks(range(7), day_names)\n",
    "plt.savefig(\"graphs/PostsPerDayOfWeek.png\")\n",
    "plt.show()"
   ],
   "metadata": {
    "collapsed": false,
    "is_executing": true
   },
   "id": "fe04cbcc1db59ef3"
  },
  {
   "cell_type": "markdown",
   "source": [
    "## Question: Let`s make sentiment analysis of these channels"
   ],
   "metadata": {
    "collapsed": false
   },
   "id": "e46499f7e1ccf811"
  },
  {
   "cell_type": "code",
   "execution_count": 10,
   "outputs": [
    {
     "name": "stderr",
     "output_type": "stream",
     "text": [
      "Analyzing Tone: 100%|██████████| 299/299 [24:02<00:00,  4.82s/it]  "
     ]
    },
    {
     "name": "stdout",
     "output_type": "stream",
     "text": [
      "       channel_name  tone_score\n",
      "0       ASGasparyan    0.386917\n",
      "1        Abbasdjuma    0.094276\n",
      "2    Alekhin_Telega    0.128784\n",
      "3      Ateobreaking    0.112373\n",
      "4          Baronova    0.087408\n",
      "..              ...         ...\n",
      "294         yurydud   -0.231818\n",
      "295  zakharprilepin    0.230145\n",
      "296      zhogaartem    0.000000\n",
      "297     znachit_net    0.040799\n",
      "298      zvezdanews    0.065643\n",
      "\n",
      "[299 rows x 2 columns]\n"
     ]
    },
    {
     "name": "stderr",
     "output_type": "stream",
     "text": [
      "\n"
     ]
    }
   ],
   "source": [
    "df['date'] = pd.to_datetime(df['date']) \n",
    "\n",
    "def analyze_tone(messages):\n",
    "    blob = TextBlob(' '.join(str(message) for message in messages))\n",
    "    return blob.sentiment.polarity\n",
    "\n",
    "tqdm.pandas(desc=\"Analyzing Tone\")\n",
    "channel_tone_scores = df.groupby('channel_name')['message'].progress_apply(analyze_tone)\n",
    "\n",
    "channel_tone_df = pd.DataFrame({'channel_name': channel_tone_scores.index, 'tone_score': channel_tone_scores.values})\n",
    "\n",
    "tqdm.pandas(desc=\"Printing Results\")\n",
    "print(channel_tone_df)"
   ],
   "metadata": {
    "collapsed": false,
    "ExecuteTime": {
     "end_time": "2023-12-05T13:05:40.890676900Z",
     "start_time": "2023-12-05T12:41:37.953432400Z"
    }
   },
   "id": "d3f32f1462848042"
  },
  {
   "cell_type": "code",
   "execution_count": 19,
   "outputs": [
    {
     "name": "stdout",
     "output_type": "stream",
     "text": [
      "0.15030092590245597\n"
     ]
    }
   ],
   "source": [
    "print(channel_tone_scores.mean())"
   ],
   "metadata": {
    "collapsed": false,
    "ExecuteTime": {
     "end_time": "2023-12-05T13:15:55.160414400Z",
     "start_time": "2023-12-05T13:15:55.018919500Z"
    }
   },
   "id": "cd822a74cab26d4d"
  },
  {
   "cell_type": "code",
   "execution_count": 22,
   "outputs": [
    {
     "name": "stdout",
     "output_type": "stream",
     "text": [
      "\n",
      "Top 10 Highest Sentiment Scores:\n",
      "         channel_name  tone_score\n",
      "141    maryananaumova    0.750000\n",
      "13   GrafinyaNegoduet    0.600000\n",
      "136        makarov_kb    0.600000\n",
      "196          pgubarev    0.578125\n",
      "276      vatnoeboloto    0.536659\n",
      "65      bolshiepushki    0.536506\n",
      "173          norin_ea    0.525463\n",
      "228       rusich_army    0.487775\n",
      "51           akitilop    0.470650\n",
      "159        mod_russia    0.465909\n",
      "\n",
      "Top 10 Lowest Sentiment Scores:\n",
      "       channel_name  tone_score\n",
      "90   glava_lnr_info    0.000000\n",
      "156     mkhusnullin    0.000000\n",
      "185     oper_goblin   -0.005199\n",
      "258      svarschiki   -0.024004\n",
      "158       mnogonazi   -0.057882\n",
      "270          tvrain   -0.081818\n",
      "167       naralex88   -0.180208\n",
      "294         yurydud   -0.231818\n",
      "160     momdontread   -0.305556\n",
      "255      strelkovii   -0.518750\n"
     ]
    }
   ],
   "source": [
    "sorted_channel_tone_df = channel_tone_df.sort_values(by='tone_score', ascending=False)\n",
    "\n",
    "print(\"\\nTop 10 Highest Sentiment Scores:\")\n",
    "print(sorted_channel_tone_df.head(10))\n",
    "\n",
    "print(\"\\nTop 10 Lowest Sentiment Scores:\")\n",
    "print(sorted_channel_tone_df.tail(10))"
   ],
   "metadata": {
    "collapsed": false,
    "ExecuteTime": {
     "end_time": "2023-12-05T13:22:14.658223300Z",
     "start_time": "2023-12-05T13:22:14.626963800Z"
    }
   },
   "id": "9123946fa9b3e7ce"
  },
  {
   "cell_type": "markdown",
   "source": [
    "## Question: Let`s inspect TF-IDF analysis on the most popular channel"
   ],
   "metadata": {
    "collapsed": false
   },
   "id": "8a3242b17c2eadf8"
  },
  {
   "cell_type": "code",
   "execution_count": 34,
   "outputs": [],
   "source": [
    "channel_name = 'medvedev_telegram'\n",
    "filtered_df = df[df['channel_name'] == channel_name]\n",
    "\n",
    "filtered_df['message'].apply(lambda x: ' '.join(str(msg) for msg in x))\n",
    "tfidf_matrix = tfidf_vectorizer.fit_transform(filtered_df['message'])\n",
    "tfidf_df = pd.DataFrame(tfidf_matrix.toarray(), columns=tfidf_vectorizer.get_feature_names_out())"
   ],
   "metadata": {
    "collapsed": false,
    "ExecuteTime": {
     "end_time": "2023-12-05T16:12:00.402193400Z",
     "start_time": "2023-12-05T16:12:00.342479500Z"
    }
   },
   "id": "eba1b3335fd1989"
  },
  {
   "cell_type": "markdown",
   "source": [
    "## Top 10 TF-IDF Terms for this channel in documents:"
   ],
   "metadata": {
    "collapsed": false
   },
   "id": "eaeacd4cd17968b5"
  },
  {
   "cell_type": "code",
   "execution_count": 41,
   "outputs": [
    {
     "name": "stdout",
     "output_type": "stream",
     "text": [
      "Document 1: Top 10 TF-IDF Terms - противника, объекты, военных, инфраструктуре, пп, комбатанты, разному, законными, официально, целях\n",
      "Document 2: Top 10 TF-IDF Terms - видимо, упоротый, просит, пушечного, критической, кровь, живого, мяса, свежая, клоун\n",
      "Document 3: Top 10 TF-IDF Terms - враг, присягнувших, фамилиями, псевдоукраинские, основаны, производство, принципах, захлебываясь, родной, мест\n",
      "Document 4: Top 10 TF-IDF Terms - футболе, финал, вражеских, стран, северный, сдерживания, сделать, сделали, сделал, священна\n",
      "Document 5: Top 10 TF-IDF Terms - гетман, издевался, хай, устройство, пушкину, терроризировал, формирование, развёл, языком, турбин\n",
      "Document 6: Top 10 TF-IDF Terms - отечества, героев, пожертвовать, тусклой, разжиревших, пример, помним, поэтому, герой, защищая\n",
      "Document 7: Top 10 TF-IDF Terms - размениваясь, масс, стоило, ненужные, медиа, благодаря, отметить, компромиссы, особо, работу\n",
      "Document 8: Top 10 TF-IDF Terms - заговорщики, ливерная, германии, явно, пресловутый, полным, принимает, попкорном, правые, правы\n",
      "Document 9: Top 10 TF-IDF Terms - воду, часть, точно, никто, толпу, товара, проруби, пропадёт, поразительно, хорошего\n",
      "Document 10: Top 10 TF-IDF Terms - 000, связь, северной, сдерживания, сделать, сделали, сделал, священна, святое, связи\n",
      "Document 11: Top 10 TF-IDF Terms - упц, киевские, православной, церкви, веры, узнаете, помилую, христианскому, христопродавцы, фундаментальных\n",
      "Document 12: Top 10 TF-IDF Terms - нацистов, европе, 000, священна, североатлантического, северный, северной, сдерживания, сделать, сделали\n",
      "Document 13: Top 10 TF-IDF Terms - фанатикам, поставит, импотенты, столтенберг, киевским, надеюсь, целью, вооружённых, сразу, понимают\n",
      "Document 14: Top 10 TF-IDF Terms - победит, нато, миру, странах, человечеством, прогресс, покаяться, преступное, сядет, урезанных\n",
      "Document 15: Top 10 TF-IDF Terms - бизнес, европы, партнёра, сша, рынок, компании, америка, европейские, своими, европейских\n",
      "Document 16: Top 10 TF-IDF Terms - производственного, пуски, предприятия, надеются, посещения, регион, внимательно, напрасно, научно, возможностей\n",
      "Document 17: Top 10 TF-IDF Terms - киев, город, столица, составе, фаворит, тараканы, показать, янычар, факты, тараканьи\n",
      "Document 18: Top 10 TF-IDF Terms - переговоры, попытки, новые, укокошат, признаешь, цугцванг, шкурным, чреватого, развитии, подачки\n",
      "Document 19: Top 10 TF-IDF Terms - уголовному, уйдут, учили, университете, понятным, понести, элементов, поиски, 24, уголовное\n",
      "Document 20: Top 10 TF-IDF Terms - интересах, реальности, гигантские, обычных, сложнее, требуют, режима, новых, украины, пойдут\n",
      "Document 21: Top 10 TF-IDF Terms - послесловие, попала, перемога, вассалов, украинская, даёт, покоя, удара, польше, поводу\n",
      "Document 22: Top 10 TF-IDF Terms - свет, оон, решения, тушат, тушите, счастливому, украденное, счетах, частных, основании\n",
      "Document 23: Top 10 TF-IDF Terms - ущерба, возмещении, международного, оон, юридическую, югославии, примирению, проживём, пострадавшим, генассамблея\n",
      "Document 24: Top 10 TF-IDF Terms - напомнить, россия, одиночку, миропорядок, уничтожать, умеем, целям, условны, равноправный, тёмным\n",
      "Document 25: Top 10 TF-IDF Terms - почаще, территориального, радости, контрольная, заводе, федеральных, ведомств, машиностроительном, выпуска, федерацию\n",
      "Document 26: Top 10 TF-IDF Terms - упоротого, улетает, ультиматум, привычный, выборов, ставка, уменьшается, истеричный, сша, зелёной\n",
      "Document 27: Top 10 TF-IDF Terms - цель, оружие, воюем, отечества, западной, правое, друзья, поэтому, слова, дело\n",
      "Document 28: Top 10 TF-IDF Terms - полоса, примечательный, чёрная, почитай, противоречиях, праздника, разделами, интересно, строить, москвы\n",
      "Document 29: Top 10 TF-IDF Terms - мораторий, смертную, казнь, суда, территории, вопрос, наших, уродов, фашистских, привычное\n",
      "Document 30: Top 10 TF-IDF Terms - войне, ядерного, россии, узнать, применением, толкают, формальную, позвольте, принадлежавших, прямая\n",
      "Document 31: Top 10 TF-IDF Terms - электричеством, укладывающиеся, установленного, науку, пво, требуется, современную, информации, водой, обеспечение\n",
      "Document 32: Top 10 TF-IDF Terms - либо, потерь, подготовить, требующих, подтёрлись, туалетная, подорожала, компенсации, социализма, польского\n",
      "Document 33: Top 10 TF-IDF Terms - стабильности, правомерность, приведёт, энергосистемы, требований, энергоснабжения, покупка, росту, даст, киевским\n",
      "Document 34: Top 10 TF-IDF Terms - конца, американского, украины, труды, триумфа, хороши, разменная, процессов, поле, вспомнит\n",
      "Document 35: Top 10 TF-IDF Terms - техники, танков, поставок, производителем, уралвагонзавод, читая, устранения, указанию, продолжен, утверждения\n",
      "Document 36: Top 10 TF-IDF Terms - оон, граждан, ставит, право, страны, государств, российской, сомнение, мирное, универсальный\n",
      "Document 37: Top 10 TF-IDF Terms - доз, вакцины, гинеколог, дер, ляйен, голода, урсула, фон, млрд, подругой\n",
      "Document 38: Top 10 TF-IDF Terms - поставлять, оружие, символику, шухевича, посмотреть, впору, киевскому, выродки, прихвостней, нашими\n",
      "Document 39: Top 10 TF-IDF Terms - органов, предприятии, провели, правоохранительных, проверку, участием, центр, доказали, гоз, выпуск\n",
      "Document 40: Top 10 TF-IDF Terms - страна, украине, экс, точное, познаний, подарил, пургу, цру, директор, пентагон\n",
      "Document 41: Top 10 TF-IDF Terms - нато, чистого, эскалации, психам, последствий, обкома, рсзо, выскочки, честный, престарелые\n",
      "Document 42: Top 10 TF-IDF Terms - наших, упомянуть, явную, постоянную, сыгран, украинское, эпизод, взгляд, позицию, полноценный\n",
      "Document 43: Top 10 TF-IDF Terms - машиностроительном, заводе, гособоронзаказа, выполнения, проверка, священна, северной, сдерживания, сделать, сделали\n",
      "Document 44: Top 10 TF-IDF Terms - черепа, психиатры, ударов, трепанацию, превентивную, превентивных, остальных, больших, ядерных, необходимости\n",
      "Document 45: Top 10 TF-IDF Terms - инфляция, запад, враги, последние, газа, демонстрирует, россии, 12, торговли, 17\n",
      "Document 46: Top 10 TF-IDF Terms - единая, партии, заседание, совета, россия, 000, сделал, северный, северной, сдерживания\n",
      "Document 47: Top 10 TF-IDF Terms - присвоения, юстас, state, пост, следующий, типа, правда, рынке, семей, северный\n",
      "Document 48: Top 10 TF-IDF Terms - никарагуа, коринто, октября, пуэрто, порту, сандино, портов, эль, трубопровод, подводный\n",
      "Document 49: Top 10 TF-IDF Terms - прекратит, исчезнет, новых, факта, ускорить, ускоренно, циничный, умоляет, хорошее, присоединения\n",
      "Document 50: Top 10 TF-IDF Terms - торжествует, великая, правда, россия, северный, северной, сдерживания, сделать, сделали, сделал\n",
      "Document 51: Top 10 TF-IDF Terms - пожаловать, очевидны, добро, итоги, референдумы, домой, россию, северный, северной, сдерживания\n",
      "Document 52: Top 10 TF-IDF Terms - угроза, оружия, ядерного, использованием, оружие, прямо, ядерное, агрессии, применить, оружием\n",
      "Document 53: Top 10 TF-IDF Terms - воздух, номенклатуры, предприятие, поставляемых, устройства, помех, пусковые, широкой, торопова, представителями\n",
      "Document 54: Top 10 TF-IDF Terms - оружие, усилена, пугать, разговорами, присоединившихся, российское, способен, натовских, объявила, западному\n",
      "Document 55: Top 10 TF-IDF Terms - территорий, россии, приобретёт, трансформация, посягательство, поэтому, боятся, внесения, позволяет, значение\n",
      "Document 56: Top 10 TF-IDF Terms - нато, чистеньких, третья, прологом, пойдёт, унылые, потенциальная, умерла, предсказуемость, сценарию\n",
      "Document 57: Top 10 TF-IDF Terms - ультиматумы, требованиями, тотальная, выдвигает, диалог, знает, будущего, нынешние, вести, киевского\n",
      "Document 58: Top 10 TF-IDF Terms - компромиссы, оон, предпринимаемой, полномочий, попытке, некие, угаре, постоянных, лиги, антироссийском\n",
      "Document 59: Top 10 TF-IDF Terms - фрик, британии, унылым, термоядерная, помилования, фашистское, традициями, представлений, позором, упражнений\n",
      "Document 60: Top 10 TF-IDF Terms - германия, удивляется, поставщиком, произнёс, поставляет, россии, следовательно, гибридную, газом, обиделся\n",
      "Document 61: Top 10 TF-IDF Terms - ссср, союза, дезинтеграции, распалась, союзного, империя, перестали, 1991, государства, распада\n",
      "Document 62: Top 10 TF-IDF Terms - тётенька, пришло, трубопроводный, ляйен, дер, потолок, заявила, ввести, нефтью, фон\n",
      "Document 63: Top 10 TF-IDF Terms - la, guerre, гражданам, посулами, тематике, предстоящему, покажут, шенгенские, убедятся, русофобским\n",
      "Document 64: Top 10 TF-IDF Terms - прогнозную, вынужден, стоимость, 5000, кубометров, тысячу, европейского, 2022, правительств, связи\n",
      "Document 65: Top 10 TF-IDF Terms - французском, телеканале, программе, интервью, святое, северной, сдерживания, сделать, сделали, сделал\n",
      "Document 66: Top 10 TF-IDF Terms - признание, итогов, киеве, украинскому, полтора, прогнозов, электората, упражняются, сценариев, придумала\n",
      "Document 67: Top 10 TF-IDF Terms - гарантий, безопасности, гарантии, киевский, тему, дать, режим, никаких, нато, председательством\n",
      "Document 68: Top 10 TF-IDF Terms - газ, получилась, полноценно, кубометров, экономии, ценой, тысячу, господа, шольц, конце\n",
      "Document 69: Top 10 TF-IDF Terms - политики, ответу, нормальных, холод, плата, европейские, россией, половины, торговли, начинает\n",
      "Document 70: Top 10 TF-IDF Terms - технический, экспозиции, уверенностью, продемонстрированные, площадках, высоком, позволяют, технологий, посетил, военно\n",
      "Document 71: Top 10 TF-IDF Terms - говорят, чернобыль, публики, туповатой, покровители, радиоактивных, чисто, хранилищам, союзе, ракеты\n",
      "Document 72: Top 10 TF-IDF Terms - 000, связь, северной, сдерживания, сделать, сделали, сделал, священна, святое, связи\n",
      "Document 73: Top 10 TF-IDF Terms - 000, связь, северной, сдерживания, сделать, сделали, сделал, священна, святое, связи\n",
      "Document 74: Top 10 TF-IDF Terms - глава, рф, днр, лнр, александр, президента, преступлений, четверг, файзуллин, уделили\n",
      "Document 75: Top 10 TF-IDF Terms - пытался, призвать, целого, клоун, природе, гитлер, население, последний, ответственности, предложил\n",
      "Document 76: Top 10 TF-IDF Terms - нато, поняли, пришлось, прислушиваться, предприняты, услышали, принуждению, продолжили, проигнорировали, сигнал\n",
      "Document 77: Top 10 TF-IDF Terms - конфискации, имущества, преступно, раде, утвердить, нажитого, занимаются, земле, бумаге, жителям\n",
      "Document 78: Top 10 TF-IDF Terms - мировой, опасный, допустить, плохая, момент, столтенберг, забыл, генсек, память, времён\n",
      "Document 79: Top 10 TF-IDF Terms - старик, рыба, старуху, рыбу, старика, старухой, старуха, рыбку, рыбка, море\n",
      "Document 80: Top 10 TF-IDF Terms - холодной, хуже, вопросы, безопасности, войны, приползли, потенциалов, обсуждали, месяца, темой\n",
      "Document 81: Top 10 TF-IDF Terms - нато, стран, россии, 000, североатлантического, северной, сдерживания, сделать, сделали, сделал\n",
      "Document 82: Top 10 TF-IDF Terms - 000, связь, северной, сдерживания, сделать, сделали, сделал, священна, святое, связи\n",
      "Document 83: Top 10 TF-IDF Terms - рис, психотропных, пострадавшем, следующая, светлого, картинка, будущего, аналитики, деле, считают\n",
      "Document 84: Top 10 TF-IDF Terms - развитое, подростковой, хамства, поноса, умники, тяжёлую, придут, тёплых, помогаем, экспорта\n",
      "Document 85: Top 10 TF-IDF Terms - 000, связь, северной, сдерживания, сделать, сделали, сделал, священна, святое, связи\n",
      "Document 86: Top 10 TF-IDF Terms - защищают, военном, долг, военнослужащих, свой, жизни, людей, мир, наших, сдерживания\n",
      "Document 87: Top 10 TF-IDF Terms - ес, американцы, украина, нато, украины, управление, продуктовая, потеряла, потеряли, потоков\n",
      "Document 88: Top 10 TF-IDF Terms - российской, европейских, читает, ударили, подорожании, примечания, произведений, провоцировании, прогрессивного, цезаря\n",
      "Document 89: Top 10 TF-IDF Terms - вооружения, океаном, отнюдь, американских, международного, сразу, которое, военной, оружие, оружия\n",
      "Document 90: Top 10 TF-IDF Terms - правое, дело, 000, северной, сдерживания, сделать, сделали, сделал, священна, святое\n",
      "Document 91: Top 10 TF-IDF Terms - 000, связь, северной, сдерживания, сделать, сделали, сделал, священна, святое, связи\n",
      "Document 92: Top 10 TF-IDF Terms - нацизму, процессы, любой, жить, равно, американцы, америка, сша, деньги, правда\n",
      "Document 93: Top 10 TF-IDF Terms - демократии, америка, сша, равны, предстоятеля, ферме, полезна, получил, равнее, придумаешь\n",
      "Document 94: Top 10 TF-IDF Terms - равенства, правильного, скотный, двор, принципы, 000, сделал, северной, сдерживания, сделать\n",
      "Document 95: Top 10 TF-IDF Terms - транзиту, просветы, транзит, пробрал, потерять, кретинизм, случай, русофобию, понос, победили\n",
      "Document 96: Top 10 TF-IDF Terms - евро, доллара, проблемы, включая, санкции, фронт, протухающего, развязали, просчитать, торговле\n",
      "Document 97: Top 10 TF-IDF Terms - считались, позовут, пришли, присутствие, подчас, настоящему, достигнуты, союзом, демилитаризации, считаются\n",
      "Document 98: Top 10 TF-IDF Terms - пошёл, прибалтики, треке, уходят, опасности, перемога, лондона, ждём, бездарной, итог\n",
      "Document 99: Top 10 TF-IDF Terms - сша, войны, библия, страну, мировой, устроить, судимы, военные, таким, 20\n",
      "Document 100: Top 10 TF-IDF Terms - выше, нефти, цены, установленной, прогнозной, установлен, японского, японский, допустит, потолок\n",
      "Document 101: Top 10 TF-IDF Terms - предвижу, призывать, цицерона, проявлять, разнообразные, чужой, восторге, урсулы, потеряно, вида\n",
      "Document 102: Top 10 TF-IDF Terms - украинофилии, схожие, чувства, разместившихся, украинофобии, четырём, украинцами, киевом, процессы, блага\n",
      "Document 103: Top 10 TF-IDF Terms - юридический, форум, международный, 000, североатлантического, северной, сдерживания, сделать, сделали, сделал\n",
      "Document 104: Top 10 TF-IDF Terms - юридический, форум, международный, 000, североатлантического, северной, сдерживания, сделать, сделали, сделал\n",
      "Document 105: Top 10 TF-IDF Terms - юридический, форум, международный, 000, североатлантического, северной, сдерживания, сделать, сделали, сделал\n",
      "Document 106: Top 10 TF-IDF Terms - юридический, форум, международный, 000, североатлантического, северной, сдерживания, сделать, сделали, сделал\n",
      "Document 107: Top 10 TF-IDF Terms - юридический, форум, международный, 000, североатлантического, северной, сдерживания, сделать, сделали, сделал\n",
      "Document 108: Top 10 TF-IDF Terms - судостроения, успехи, труду, проектов, появятся, трудностям, остановить, благодаря, давлению, блокировать\n",
      "Document 109: Top 10 TF-IDF Terms - съел, придурок, предлагает, шороха, третью, сигнал, латвии, послал, придёт, мировую\n",
      "Document 110: Top 10 TF-IDF Terms - молдавии, румынии, великой, mare, romania, ес, новой, кандидата, неудивительно, молдавия\n",
      "Document 111: Top 10 TF-IDF Terms - погибли, чья, бербок, дней, блокаде, заявила, 700, голода, чиновников, мид\n",
      "Document 112: Top 10 TF-IDF Terms - политических, коля, политик, примут, проблема, европейской, очевидно, способны, решение, вполне\n",
      "Document 113: Top 10 TF-IDF Terms - погибшим, родину, память, 000, священна, северной, сдерживания, сделать, сделали, сделал\n",
      "Document 114: Top 10 TF-IDF Terms - совбеза, информационной, критической, заседание, инфраструктуры, технологического, комиссии, обеспечения, суверенитета, сфере\n",
      "Document 115: Top 10 TF-IDF Terms - снв, переговоров, пусть, приступить, подписавший, точке, продления, работало, продливший, прибегут\n",
      "Document 116: Top 10 TF-IDF Terms - пообещали, союз, ес, тьфу, кпсс, коммунизма, ситуация, причём, приведено, последней\n",
      "Document 117: Top 10 TF-IDF Terms - возможным, главный, считает, переговоров, говорить, конца, чём, россией, вопрос, украины\n",
      "Document 118: Top 10 TF-IDF Terms - голове, хайда, джекила, мистера, доктора, штука, политику, факту, теряют, психиатрии\n",
      "Document 119: Top 10 TF-IDF Terms - лада, лады, машина, стала, приблизительно, подороже, считалась, продавца, раза, убитую\n",
      "Document 120: Top 10 TF-IDF Terms - украина, предстоящей, пустяк, хозяев, спг, видел, существовать, сообщение, карте, заокеанских\n",
      "Document 121: Top 10 TF-IDF Terms - ожидании, очередного, пакета, санкций, связана, связанная, связи, связь, святое, своём\n",
      "Document 122: Top 10 TF-IDF Terms - производства, граждан, ожидаем, улыбайтесь, еды, европейских, санкций, придумывать, полных, услуг\n",
      "Document 123: Top 10 TF-IDF Terms - природного, арктической, арктики, газа, энергоресурсов, арктического, арктике, зоны, широтах, сжиженного\n",
      "Document 124: Top 10 TF-IDF Terms - 000, связь, северной, сдерживания, сделать, сделали, сделал, священна, святое, связи\n",
      "Document 125: Top 10 TF-IDF Terms - днём, россии, 000, святое, северной, сдерживания, сделать, сделали, сделал, священна\n",
      "Document 126: Top 10 TF-IDF Terms - посты, телеграм, ублюдки, отвечаю, исчезли, выродки, смерти, делать, хотят, россии\n",
      "Document 127: Top 10 TF-IDF Terms - пушкин, языка, сынов, полях, среди, русского, место, россии, святое, сделать\n",
      "Document 128: Top 10 TF-IDF Terms - пакет, сырьё, swift, европейцам, судя, найти, бизнес, цель, поставок, россия\n",
      "Document 129: Top 10 TF-IDF Terms - семьи, вины, ук, члены, коза, 58, родственников, вменение, равного, рсфср\n",
      "Document 130: Top 10 TF-IDF Terms - телеграм, 000, связь, северной, сдерживания, сделать, сделали, сделал, священна, святое\n",
      "Document 131: Top 10 TF-IDF Terms - продовольствии, святое, северный, северной, сдерживания, сделать, сделали, сделал, священна, связь\n",
      "Document 132: Top 10 TF-IDF Terms - судьбе, украины, северный, сдерживания, сделать, сделали, сделал, священна, святое, связь\n",
      "Document 133: Top 10 TF-IDF Terms - переговорах, 24, 22, 000, сделал, североатлантического, северный, северной, сдерживания, сделать\n",
      "Document 134: Top 10 TF-IDF Terms - изменился, мир, 000, семей, североатлантического, северный, северной, сдерживания, сделать, сделали\n",
      "Document 135: Top 10 TF-IDF Terms - телеканалу, интервью, 000, святое, северной, сдерживания, сделать, сделали, сделал, священна\n",
      "Document 136: Top 10 TF-IDF Terms - партии, правящей, приёмные, единая, смогли, жители, решениями, учиться, впервые, днр\n",
      "Document 137: Top 10 TF-IDF Terms - ненависть, россии, сделать, направлены, ударить, обычных, имущества, активов, вывод, таки\n",
      "Document 138: Top 10 TF-IDF Terms - выступает, упростить, желает, шольца, въезд, въезде, подобных, желательно, решила, страхом\n",
      "Document 139: Top 10 TF-IDF Terms - удары, преступных, центрам, принятия, нанесли, находится, вооружённые, города, поставлять, угрозу\n",
      "Document 140: Top 10 TF-IDF Terms - иноагентов, деятельность, период, ответ, жёстким, пал, превосходительства, агентами, андреич, структура\n",
      "Document 141: Top 10 TF-IDF Terms - 000, связь, северной, сдерживания, сделать, сделали, сделал, священна, святое, связи\n",
      "Document 142: Top 10 TF-IDF Terms - мюнхен, фрг, зеленскому, ко, украины, зеленский, государства, людей, положить, тогдашний\n",
      "Document 143: Top 10 TF-IDF Terms - научно, сколково, запросы, технологического, юбилейной, технологическим, развиваться, проводником, умеют, экосистема\n",
      "Document 144: Top 10 TF-IDF Terms - украины, мирных, крыма, мирные, автономия, поток, нейтральный, судьбу, ес, статус\n",
      "Document 145: Top 10 TF-IDF Terms - поинтересовались, южную, послание, сообщение, точка, спустя, либо, какое, трудно, байден\n",
      "Document 146: Top 10 TF-IDF Terms - продовольствие, вводят, мешает, санкции, поставок, понимают, европейцы, граждан, подписывать, телевизоре\n",
      "Document 147: Top 10 TF-IDF Terms - laughs, обязательства, финансовой, деньги, укрепляющий, понравятся, форс, помехи, третьих, подобные\n",
      "Document 148: Top 10 TF-IDF Terms - нашу, должны, частные, щит, эффективных, технического, развязать, подключиться, поддержать, науку\n",
      "Document 149: Top 10 TF-IDF Terms - g7, семёрки, границ, помощь, россией, украины, трёхдневной, поэтапный, поразившего, прецедент\n",
      "Document 150: Top 10 TF-IDF Terms - кризис, международных, возможен, крах, новые, наступит, де, государствах, деятельности, стран\n",
      "Document 151: Top 10 TF-IDF Terms - россией, нато, конфликта, странами, разговоры, тонкими, пугает, последствиях, развязанной, трамп\n",
      "Document 152: Top 10 TF-IDF Terms - говоря, украине, поддержкой, раздутый, поделить, щедрот, тяжёлое, просил, war, увеличивает\n",
      "Document 153: Top 10 TF-IDF Terms - днём, победы, великой, 000, святое, северный, северной, сдерживания, сделать, сделали\n",
      "Document 154: Top 10 TF-IDF Terms - сс, 1945, вермахта, праги, памяти, города, вопрос, победы, решили, видимо\n",
      "Document 155: Top 10 TF-IDF Terms - коммунизма, призрак, энергопотребления, толстых, проник, рублями, собираются, введут, гордыми, продуктовых\n",
      "Document 156: Top 10 TF-IDF Terms - польши, территориальные, дуда, польшей, поляков, украиной, украины, украине, счастливой, ублюдочным\n",
      "Document 157: Top 10 TF-IDF Terms - пастух, православных, предпримет, сытой, убой, читай, виктор, миротворец, посмотрим, американский\n",
      "Document 158: Top 10 TF-IDF Terms - натовцы, акта, rebus, sic, stantibus, clausula, обстоятельства, последствия, прямо, провокационные\n",
      "Document 159: Top 10 TF-IDF Terms - либо, качестве, преступные, тявкают, проигравшего, подтверждают, нести, живого, надежда, нужен\n",
      "Document 160: Top 10 TF-IDF Terms - лидеры, прямо, европейских, шею, подозрением, украинофильское, полную, хорватии, премьеры, тиранией\n",
      "Document 161: Top 10 TF-IDF Terms - 000, связь, северной, сдерживания, сделать, сделали, сделал, священна, святое, связи\n",
      "Document 162: Top 10 TF-IDF Terms - чемпион, поздравляю, 000, связь, северной, сдерживания, сделать, сделали, сделал, священна\n",
      "Document 163: Top 10 TF-IDF Terms - хоккеистов, тренерский, штаб, цска, поздравляю, сделать, сделали, сделал, священна, святое\n",
      "Document 164: Top 10 TF-IDF Terms - написал, русские, посильнее, фа, подход, шарля, шмидта, пройдёт, родной, посредственная\n",
      "Document 165: Top 10 TF-IDF Terms - притесняют, подобный, посольств, предпринимает, преференций, подвергают, унижают, уделим, углублять, порядке\n",
      "Document 166: Top 10 TF-IDF Terms - суммы, компании, украдут, условие, текущей, потребуется, предложением, сына, качественный, близкие\n",
      "Document 167: Top 10 TF-IDF Terms - печально, тяжёлых, предшественников, немецким, лавры, покоя, поставку, прошлом, режиму, веке\n",
      "Document 168: Top 10 TF-IDF Terms - христианства, сопротивление, московского, лидеры, правда, христианского, пцу, убийствами, табуированную, поставками\n",
      "Document 169: Top 10 TF-IDF Terms - импорт, прибыль, продавцы, возвращаются, специалистов, компаний, выход, становится, иностранных, пусть\n",
      "Document 170: Top 10 TF-IDF Terms - приходит, чудесного, юрисдикции, превращения, способна, регистрации, изменит, случится, игнорировать, сеть\n",
      "Document 171: Top 10 TF-IDF Terms - 000, связь, северной, сдерживания, сделать, сделали, сделал, священна, святое, связи\n",
      "Document 172: Top 10 TF-IDF Terms - христос, 000, связи, сдерживания, сделать, сделали, сделал, священна, святое, связь\n",
      "Document 173: Top 10 TF-IDF Terms - газа, принципиальность, ценим, последовательность, применяться, протянут, комиссия, бизнесом, оплату, рублях\n",
      "Document 174: Top 10 TF-IDF Terms - упоротых, начальников, удар, нанести, надеюсь, целью, необходимости, украинских, понимает, святое\n",
      "Document 175: Top 10 TF-IDF Terms - 000, связь, северной, сдерживания, сделать, сделали, сделал, священна, святое, связи\n",
      "Document 176: Top 10 TF-IDF Terms - вместе, наёмники, добровольцы, живых, главное, идёт, чехословацкий, последующей, шара, приводила\n",
      "Document 177: Top 10 TF-IDF Terms - технологической, предпринять, эффективного, изолировать, задач, наука, серьёзная, ресурсы, сферы, экономическую\n",
      "Document 178: Top 10 TF-IDF Terms - дефолт, вполне, людей, ухоженных, тайно, трясло, попробуйте, тексты, преступности, финансовая\n",
      "Document 179: Top 10 TF-IDF Terms - просьба, порцию, приятно, исполнять, создают, платят, свежая, уничтожения, госдепа, фейки\n",
      "Document 180: Top 10 TF-IDF Terms - срок, целями, информационной, необходимыми, знать, въезде, противном, учёта, создание, заседании\n",
      "Document 181: Top 10 TF-IDF Terms - нато, буквально, двумя, финляндия, швеция, сухопутных, альянс, тридцать, идти, границ\n",
      "Document 182: Top 10 TF-IDF Terms - показания, уродцы, оказаться, сообщают, властями, внимательно, деятелям, двери, ночь, украинскими\n",
      "Document 183: Top 10 TF-IDF Terms - украине, человечеству, понимаем, подельниками, прозрачного, усиление, считаем, противодействия, биологического, применение\n",
      "Document 184: Top 10 TF-IDF Terms - фильм, сергея, невский, представителям, картины, александр, посмотреть, русские, международной, европейцы\n",
      "Document 185: Top 10 TF-IDF Terms - сша, добычи, утечки, метана, европа, последние, экологические, производствах, сланцевых, годы\n",
      "Document 186: Top 10 TF-IDF Terms - незаконные, санкции, права, международного, санкциях, отношении, оон, россии, агрессии, санкциями\n",
      "Document 187: Top 10 TF-IDF Terms - прощание, 000, святое, северный, северной, сдерживания, сделать, сделали, сделал, священна\n",
      "Document 188: Top 10 TF-IDF Terms - правам, оон, комиссии, человека, 2006, совет, тихой, приостановке, члена, проживёт\n",
      "Document 189: Top 10 TF-IDF Terms - наукоёмких, прессом, экспертами, подготовки, отраслей, значение, имеют, школы, обсуждали, учёных\n",
      "Document 190: Top 10 TF-IDF Terms - владимир, жириновский, жириновского, видно, человеком, владимира, образован, политики, жизни, присущими\n",
      "Document 191: Top 10 TF-IDF Terms - инквизитора, приговор, судах, право, методы, властью, борьба, инквизиторов, смертный, великого\n",
      "Document 192: Top 10 TF-IDF Terms - истории, украинцев, цель, коновальца, рейх, фейк, русскому, нацистских, армией, руси\n",
      "Document 193: Top 10 TF-IDF Terms - дипломатов, страну, послов, французы, шизоидной, утончённые, почувствовали, впору, замки, природе\n",
      "Document 194: Top 10 TF-IDF Terms - лицо, предателя, твоих, чрезвычайно, твои, мыслей, родину, лица, любит, теме\n",
      "Document 195: Top 10 TF-IDF Terms - ес, нато, захотела, вашингтон, украина, вроде, хочет, просила, командует, молила\n",
      "Document 196: Top 10 TF-IDF Terms - крупнейший, съедим, тихое, продовольствие, продуктов, экспорт, поставлять, нашим, получается, санкций\n",
      "Document 197: Top 10 TF-IDF Terms - заморозить, газа, приобретения, провести, северный, центрального, поток, валюты, ближайшие, оставить\n",
      "Document 198: Top 10 TF-IDF Terms - мировых, системе, хотелось, экономических, адских, обязательства, мир, ясно, сильно, готовы\n",
      "Document 199: Top 10 TF-IDF Terms - уточнить, предусмотреть, термином, компенсации, огня, материальные, близкие, гражданство, различные, базу\n",
      "Document 200: Top 10 TF-IDF Terms - своё, своя, место, россия, позиционирование, предназначено, хорошая, хотите, занимает, сила\n",
      "Document 201: Top 10 TF-IDF Terms - решать, сфер, подстегнуть, технологий, труднее, правительства, задачи, коллеги, смогут, вынуждены\n",
      "Document 202: Top 10 TF-IDF Terms - целый, федерация, понятна, нейтральный, демилитаризацию, законов, нацистских, позиций, идеологических, использования\n",
      "Document 203: Top 10 TF-IDF Terms - нашей, попытаются, относительно, потенциал, притом, повлиять, которыми, мощного, понимали, военными\n",
      "Document 204: Top 10 TF-IDF Terms - грань, риторике, никто, периодически, найти, врага, 30, текущего, упрекать, поговорили\n",
      "Document 205: Top 10 TF-IDF Terms - поживём, схема, увидим, рублями, доллара, оплату, евро, платить, работать, является\n",
      "Document 206: Top 10 TF-IDF Terms - уехал, разделяется, границу, можешь, код, судимы, личный, возвращаются, скорее, вернётся\n",
      "Document 207: Top 10 TF-IDF Terms - отношении, тянется, протоколируется, гадости, народной, каждым, цифровой, памяти, курса, думать\n",
      "Document 208: Top 10 TF-IDF Terms - вправе, нато, посчитали, противостоянии, существовать, кончины, вне, договором, распался, стоят\n",
      "Document 209: Top 10 TF-IDF Terms - подробности, завтра, телеканалу, rt, риа, интервью, новости, северной, сдерживания, сделать\n",
      "Document 210: Top 10 TF-IDF Terms - браво, сша, своё, стратеги, перспектива, разрушить, государством, игры, войны, американского\n",
      "Document 211: Top 10 TF-IDF Terms - переговоры, важнее, посещал, японцами, текст, показав, японией, продемонстрировали, японцы, всякий\n",
      "Document 212: Top 10 TF-IDF Terms - 000, связь, северной, сдерживания, сделать, сделали, сделал, священна, святое, связи\n",
      "Document 213: Top 10 TF-IDF Terms - островов, курильских, посещения, 000, североатлантического, северный, северной, сдерживания, сделать, сделали\n",
      "Document 214: Top 10 TF-IDF Terms - россии, абсолютно, дерусификации, оккупантов, главе, дорого, элитам, моравецкий, польских, забыть\n",
      "Document 215: Top 10 TF-IDF Terms - мяса, украины, тонкостях, употребление, привычки, энергией, порадовал, любую, национальные, сделал\n",
      "Document 216: Top 10 TF-IDF Terms - сделали, компании, терять, пропагандисты, помогали, пожалеют, уходе, чаше, трудовые, трудные\n",
      "Document 217: Top 10 TF-IDF Terms - африки, азии, кстати, раздираемый, правительство, удвоенной, эпидемия, приняло, провозглашать, противоречиями\n",
      "Document 218: Top 10 TF-IDF Terms - санкции, скоро, отношении, санкций, уверен, приходили, тотальной, правоте, проходили, пригодный\n",
      "Document 219: Top 10 TF-IDF Terms - гостелерадиофонд, полигон, советское, фейками, сети, стране, всём, живут, активно, мире\n",
      "Document 220: Top 10 TF-IDF Terms - русофобия, известные, цепи, поставить, иное, явление, xx, веке, россии, сильнее\n",
      "Document 221: Top 10 TF-IDF Terms - 000, связь, северной, сдерживания, сделать, сделали, сделал, священна, святое, связи\n",
      "Document 222: Top 10 TF-IDF Terms - 000, связь, северной, сдерживания, сделать, сделали, сделал, священна, святое, связи\n"
     ]
    }
   ],
   "source": [
    "num_top_terms = 10\n",
    "top_terms_per_document = {}\n",
    "for i, row in tfidf_df.iterrows():\n",
    "    top_terms = row.sort_values(ascending=False).index[:num_top_terms]\n",
    "    top_terms_per_document[i] = top_terms\n",
    "\n",
    "for document_index, top_terms in top_terms_per_document.items():\n",
    "    print(f\"Document {document_index + 1}: Top {num_top_terms} TF-IDF Terms - {', '.join(top_terms)}\")"
   ],
   "metadata": {
    "collapsed": false,
    "ExecuteTime": {
     "end_time": "2023-12-05T16:21:07.643926700Z",
     "start_time": "2023-12-05T16:21:07.549284700Z"
    }
   },
   "id": "c3f7cc1ca4bd2171"
  }
 ],
 "metadata": {
  "kernelspec": {
   "display_name": "Python 3",
   "language": "python",
   "name": "python3"
  },
  "language_info": {
   "codemirror_mode": {
    "name": "ipython",
    "version": 2
   },
   "file_extension": ".py",
   "mimetype": "text/x-python",
   "name": "python",
   "nbconvert_exporter": "python",
   "pygments_lexer": "ipython2",
   "version": "2.7.6"
  }
 },
 "nbformat": 4,
 "nbformat_minor": 5
}
